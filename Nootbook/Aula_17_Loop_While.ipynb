{
  "nbformat": 4,
  "nbformat_minor": 0,
  "metadata": {
    "colab": {
      "provenance": []
    },
    "kernelspec": {
      "name": "python3",
      "display_name": "Python 3"
    },
    "language_info": {
      "name": "python"
    }
  },
  "cells": [
    {
      "cell_type": "markdown",
      "source": [
        "## Exemplos"
      ],
      "metadata": {
        "id": "5g1okcgL6Q4g"
      }
    },
    {
      "cell_type": "code",
      "execution_count": 4,
      "metadata": {
        "colab": {
          "base_uri": "https://localhost:8080/"
        },
        "id": "xoF7klY71113",
        "outputId": "0e1bacda-d50f-4dfd-9b5e-1b0b5f6cae43"
      },
      "outputs": [
        {
          "output_type": "stream",
          "name": "stdout",
          "text": [
            "10\n"
          ]
        }
      ],
      "source": [
        "# Enquanto...faça: Primeiro pergunta, depois executa. Tem que ser verdadeiro para ENTRAR.\n",
        "i = 10\n",
        "while i <= 10:\n",
        "  print(i)\n",
        "  i += 1"
      ]
    },
    {
      "cell_type": "code",
      "source": [
        "# Repita...até -> Primeiro executa, depois pergunta. Tem que ser verdadeiro para SAIR.\n",
        "lista = []\n",
        "while True:\n",
        "  nome = input(\"Digite um nome: \")\n",
        "  if nome == 'sair':\n",
        "    break\n",
        "  else:\n",
        "    lista.append(nome)\n",
        "print(lista)"
      ],
      "metadata": {
        "colab": {
          "base_uri": "https://localhost:8080/"
        },
        "id": "ccqNGhCB2TB1",
        "outputId": "676236f9-e4b3-400f-cd60-9a0896839a57"
      },
      "execution_count": 6,
      "outputs": [
        {
          "output_type": "stream",
          "name": "stdout",
          "text": [
            "Digite um nome: Daenerys\n",
            "Digite um nome: Viserys\n",
            "Digite um nome: Rhaegar\n",
            "Digite um nome: Aerys\n",
            "Digite um nome: Rhaenyra\n",
            "Digite um nome: sair\n",
            "['Daenerys', 'Viserys', 'Rhaegar', 'Aerys', 'Rhaenyra']\n"
          ]
        }
      ]
    },
    {
      "cell_type": "markdown",
      "source": [
        "## Exercícios"
      ],
      "metadata": {
        "id": "DvhzV4IA6WjA"
      }
    },
    {
      "cell_type": "markdown",
      "source": [
        "#### Exercício 1\n",
        "\n",
        "Permita que o usuário digite o valor de VÁRIOS produtos e mostre ao final a soma dos valores destes produtos. Utilize a palavra 'SAIR' para sair do laço de repetição."
      ],
      "metadata": {
        "id": "NlEkUIJF6Y1p"
      }
    },
    {
      "cell_type": "markdown",
      "source": [
        "#### Exercício 2\n",
        "\n",
        "Receba VÁRIAS notas digitadas pelo usuário e calcule a média dessas notas. Utilize o número 0 para sair do laço de repetição."
      ],
      "metadata": {
        "id": "R0S7rSOq60TR"
      }
    },
    {
      "cell_type": "markdown",
      "source": [
        "#### Exercício 3\n",
        "\n",
        "Modifique o código abaixo para utilizar a instrução 'WHILE' ao invés do loop 'FOR'. Saia do laço quando o usuário digitar 'SAIR'."
      ],
      "metadata": {
        "id": "blzJrPiY7oPo"
      }
    },
    {
      "cell_type": "code",
      "source": [
        "# Saldo inicial\n",
        "saldo = 1000\n",
        "print(\"Saldo inicial: \", saldo)\n",
        "# Cinco operações\n",
        "for i in range(5):\n",
        "  valor = float(input(\"\\n Valor da transação: \"))\n",
        "  print(\"\\n C - Crédito \\n D - Débito\")\n",
        "  tipo = input(\"\\nTipo da transação: \")\n",
        "  # Verifica tipo da transação\n",
        "  if tipo == \"C\" or tipo == \"c\":\n",
        "    saldo = saldo + valor\n",
        "  elif tipo == \"D\" or tipo == \"d\":\n",
        "    saldo = saldo - valor\n",
        "  else:\n",
        "    print(\"\\nTransação inválida\")\n",
        "  # Mostra o extrato da transação\n",
        "  print(\"Saldo: \", saldo, \" Valor: \", valor, \"Tipo: \", tipo)"
      ],
      "metadata": {
        "id": "o9Uzvul07y2y"
      },
      "execution_count": null,
      "outputs": []
    }
  ]
}