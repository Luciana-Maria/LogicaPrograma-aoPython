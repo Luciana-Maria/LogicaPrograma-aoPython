{
  "nbformat": 4,
  "nbformat_minor": 0,
  "metadata": {
    "colab": {
      "provenance": []
    },
    "kernelspec": {
      "name": "python3",
      "display_name": "Python 3"
    },
    "language_info": {
      "name": "python"
    }
  },
  "cells": [
    {
      "cell_type": "markdown",
      "source": [
        "## SE...ENTÃO\n",
        "\n",
        "Utilizado quando se quer verificar uma condição apenas. *A condição será escrita na forma de uma expressão lógica*.\n",
        "\n",
        "Se a condição for VERDADEIRA, **acontece algo**. Se for FALSA, **não acontece nada**."
      ],
      "metadata": {
        "id": "9TWmI8j5WEep"
      }
    },
    {
      "cell_type": "code",
      "execution_count": null,
      "metadata": {
        "colab": {
          "base_uri": "https://localhost:8080/"
        },
        "id": "a-TArar_V9bE",
        "outputId": "0b76405a-1dea-41a1-fb5b-89caf9460b49"
      },
      "outputs": [
        {
          "name": "stdout",
          "output_type": "stream",
          "text": [
            "Digite a nota do aluno: 6.4\n"
          ]
        }
      ],
      "source": [
        "nota = float(input(\"Digite a nota do aluno: \"))\n",
        "if (nota >= 7.0):\n",
        "  print(\"Aprovado\")"
      ]
    },
    {
      "cell_type": "markdown",
      "source": [
        "## SE...ENTÃO..SENÃO\n",
        "\n",
        "Utilizado quando se quer verificar uma condição apenas. *A condição será escrita na forma de uma expressão lógica*.\n",
        "\n",
        "Se a condição for VERDADEIRA, acontece **uma coisa**. Se for FALSA, acontece **outra coisa**."
      ],
      "metadata": {
        "id": "mdhtr0t2WhB8"
      }
    },
    {
      "cell_type": "code",
      "source": [
        "nota = float(input(\"Digite a nota do aluno: \"))\n",
        "if (nota >= 7.0):\n",
        "  print(\"Aprovado\")\n",
        "else:\n",
        "  print(\"Reprovado\")"
      ],
      "metadata": {
        "colab": {
          "base_uri": "https://localhost:8080/"
        },
        "id": "Igz0c3atXDjC",
        "outputId": "dcf818f0-bff9-49f5-da8d-4454dffec4a8"
      },
      "execution_count": null,
      "outputs": [
        {
          "output_type": "stream",
          "name": "stdout",
          "text": [
            "Digite a nota do aluno: 6.9\n",
            "Reprovado\n"
          ]
        }
      ]
    },
    {
      "cell_type": "markdown",
      "source": [
        "## SENÃO SE...\n",
        "\n",
        "Utilizado quando se quer verificar **MAIS DE UMA CONDIÇÃO** e as condições são **COMPLEMENTARES** umas às outras. *As condições serão escritas na forma de expressões lógicas*.\n",
        "\n",
        "É escrito um bloco SE...ENTÃO para cada condição que se deseja testar e um único SENÃO é utilizado no final, caso **todas as condições sejam falsas**.\n",
        "\n",
        "Nessa estrutura, assim que uma das condições é satisfeita o código sai do laço de decisão, ou seja, ele não verifica as condições abaixo."
      ],
      "metadata": {
        "id": "6Qv9rQjwXKPi"
      }
    },
    {
      "cell_type": "code",
      "source": [
        "nota = float(input(\"Digite a nota do aluno: \"))\n",
        "if (nota >= 7.0):\n",
        "  print(\"Aprovado\")\n",
        "elif (nota >= 6.0 and nota < 7.0):\n",
        "  print(\"Recuperação\")\n",
        "else:\n",
        "  print(\"Reprovado\")"
      ],
      "metadata": {
        "colab": {
          "base_uri": "https://localhost:8080/"
        },
        "id": "9EvMnnWLXxpC",
        "outputId": "a13aed81-afce-4b89-9a78-7f4fbe84c86c"
      },
      "execution_count": null,
      "outputs": [
        {
          "output_type": "stream",
          "name": "stdout",
          "text": [
            "Digite a nota do aluno: 9.5\n",
            "Aprovado\n"
          ]
        }
      ]
    },
    {
      "cell_type": "markdown",
      "source": [
        "## SUCESSÃO\n",
        "\n",
        "Utilizado quando se quer verificar **MAIS DE UMA CONDIÇÃO** e as condições são **INDEPENDENTES** umas das outras. *As condições serão escritas na forma de expressões lógicas*.\n",
        "\n",
        "É escrito um bloco SE...ENTÃO para cada condição que se deseja testar, dispensando o uso do SENÃO.\n",
        "\n",
        "Nessa estrutura todas as condições serão testadas, independente do resultado ter sido verdadeiro em qualquer uma delas."
      ],
      "metadata": {
        "id": "lU4B4h-IbDHc"
      }
    },
    {
      "cell_type": "code",
      "source": [
        "x = int(input(\"Digite um número: \"))\n",
        "if (x % 2 == 0):\n",
        "  print(x, \"é divisível por 2\")\n",
        "if (x % 3 == 0):\n",
        "  print(x, \"é divisível por 3\")\n",
        "if (x % 5 == 0):\n",
        "  print(x, \"é divisível por 5\")\n",
        "if (x % 7 == 0):\n",
        "  print(x, \"é divisível por 7\")\n",
        "if (x % 2 != 0 and x % 3 != 0 and x % 5 != 0 and x % 7 != 0):\n",
        "  print(x, \"é um número primo diferente de 2\")"
      ],
      "metadata": {
        "colab": {
          "base_uri": "https://localhost:8080/"
        },
        "id": "txXJAH8MbMvl",
        "outputId": "4949fe19-7eac-4c31-f1bd-cd7c458b0087"
      },
      "execution_count": null,
      "outputs": [
        {
          "output_type": "stream",
          "name": "stdout",
          "text": [
            "Digite um número: 2\n",
            "2 é divisível por 2\n"
          ]
        }
      ]
    },
    {
      "cell_type": "markdown",
      "source": [
        "## ANINHAMENTO\n",
        "\n",
        "Utilizado quando se quer verificar **MAIS DE UMA CONDIÇÃO** e as condições são **DEPENDENTES** umas às outras. *As condições serão escritas na forma de expressões lógicas*.\n",
        "\n",
        "É escrito um bloco SE...ENTÃO...SENÃO para cada condição que se deseja testar."
      ],
      "metadata": {
        "id": "osFi2F96Z4Q5"
      }
    },
    {
      "cell_type": "code",
      "source": [
        "x = int(input(\"Digite um número: \"))\n",
        "if (x % 2 != 0 and x % 3 != 0 and x % 5 != 0 and x % 7 != 0):\n",
        "  print(x, \"é um número primo diferente de 2\")\n",
        "else:\n",
        "  if (x % 2 == 0):\n",
        "    print(x, \"é divisível por 2\")\n",
        "  if (x % 3 == 0):\n",
        "    print(x, \"é divisível por 3\")\n",
        "  if (x % 5 == 0):\n",
        "    print(x, \"é divisível por 5\")\n",
        "  if (x % 7 == 0):\n",
        "    print(x, \"é divisível por 7\")"
      ],
      "metadata": {
        "colab": {
          "base_uri": "https://localhost:8080/"
        },
        "id": "dQmebxPyZ3Ic",
        "outputId": "8f4cdd22-c7f1-48f6-ff66-653a230d5e7b"
      },
      "execution_count": null,
      "outputs": [
        {
          "output_type": "stream",
          "name": "stdout",
          "text": [
            "Digite um número: 14\n",
            "14 é divisível por 2\n",
            "14 é divisível por 7\n"
          ]
        }
      ]
    }
  ]
}