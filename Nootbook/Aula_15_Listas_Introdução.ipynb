{
  "nbformat": 4,
  "nbformat_minor": 0,
  "metadata": {
    "colab": {
      "provenance": []
    },
    "kernelspec": {
      "name": "python3",
      "display_name": "Python 3"
    },
    "language_info": {
      "name": "python"
    }
  },
  "cells": [
    {
      "cell_type": "code",
      "execution_count": 1,
      "metadata": {
        "id": "ozjPv_L9HAbD"
      },
      "outputs": [],
      "source": [
        "# Variáveis\n",
        "nome = \"Danielle\"         #str - string - alfanumérico\n",
        "tem_curso_superior = True #bool - boolean - booleana (V/F)\n",
        "media_final = float(9.5)  #float - float - numérico real (ponto flutuante)\n",
        "ano_formatura = int(2019) #int - integer - numérico inteiro"
      ]
    },
    {
      "cell_type": "code",
      "source": [
        "aluno1 = \"João\"\n",
        "aluno2 = \"Maria\"\n",
        "aluno3 = \"José\"\n",
        "# inviável"
      ],
      "metadata": {
        "id": "yxjgCogkInT1"
      },
      "execution_count": 2,
      "outputs": []
    },
    {
      "cell_type": "code",
      "source": [
        "# Listas\n",
        "nomes = [\"Danielle\", \"João\", \"Maria\", \"José\"]\n",
        "tem_curso_superior = [True, False, False, True]\n",
        "medias_finais = [9.5, 5.4, 3.2, 7.9]\n",
        "ano_formatura = [2019, 2026, 2025, 2021]"
      ],
      "metadata": {
        "id": "OQxf3vZ6JAii"
      },
      "execution_count": 22,
      "outputs": []
    },
    {
      "cell_type": "code",
      "source": [
        "# Percorrendo uma lista\n",
        "for nome in nomes:\n",
        "  print(nomes.index(nome))\n",
        "  print(nome)\n",
        "\n",
        "# Indexação em Python começa em 0"
      ],
      "metadata": {
        "colab": {
          "base_uri": "https://localhost:8080/"
        },
        "id": "ZMU5kV73JyLI",
        "outputId": "0b231d46-56f9-4a75-e028-07422bc3fb7b"
      },
      "execution_count": 13,
      "outputs": [
        {
          "output_type": "stream",
          "name": "stdout",
          "text": [
            "0\n",
            "Danielle\n",
            "1\n",
            "João\n",
            "2\n",
            "Maria\n",
            "3\n",
            "José\n"
          ]
        }
      ]
    },
    {
      "cell_type": "code",
      "source": [
        "len(nomes)"
      ],
      "metadata": {
        "colab": {
          "base_uri": "https://localhost:8080/"
        },
        "id": "hH-oJavNSA9H",
        "outputId": "a9a35448-64e4-4ffe-9297-21782f0585c5"
      },
      "execution_count": 15,
      "outputs": [
        {
          "output_type": "execute_result",
          "data": {
            "text/plain": [
              "4"
            ]
          },
          "metadata": {},
          "execution_count": 15
        }
      ]
    },
    {
      "cell_type": "code",
      "source": [
        "# Ver um elemento específico da lista\n",
        "print(nomes[0])\n",
        "print(nomes[2])\n",
        "print(nomes[-1])\n",
        "print(nomes[-2])"
      ],
      "metadata": {
        "colab": {
          "base_uri": "https://localhost:8080/"
        },
        "id": "Hq3DsoxkQ-OA",
        "outputId": "ab54f7cd-1db9-4424-f04f-841eeaaa0b0d"
      },
      "execution_count": 19,
      "outputs": [
        {
          "output_type": "stream",
          "name": "stdout",
          "text": [
            "Danielle\n",
            "Maria\n",
            "José\n",
            "Maria\n"
          ]
        }
      ]
    },
    {
      "cell_type": "code",
      "source": [
        "# Criando uma lista\n",
        "alunos = []\n",
        "for i in range(5):\n",
        "  aluno = input(\"Digite o nome do aluno: \")\n",
        "  alunos.append(aluno)\n",
        "# Imprimindo a lista completa\n",
        "print(alunos)"
      ],
      "metadata": {
        "colab": {
          "base_uri": "https://localhost:8080/"
        },
        "id": "yfOvg08YM9uR",
        "outputId": "1a91b0ff-0b38-4498-ab30-368218dc7647"
      },
      "execution_count": 20,
      "outputs": [
        {
          "output_type": "stream",
          "name": "stdout",
          "text": [
            "Digite o nome do aluno: André\n",
            "Digite o nome do aluno: Beatriz\n",
            "Digite o nome do aluno: Carlos\n",
            "Digite o nome do aluno: Daiane\n",
            "Digite o nome do aluno: Epaminondas\n",
            "['André', 'Beatriz', 'Carlos', 'Daiane', 'Epaminondas']\n"
          ]
        }
      ]
    },
    {
      "cell_type": "code",
      "source": [
        "# Percorrendo a lista\n",
        "for aluno in alunos:\n",
        "  print(aluno)"
      ],
      "metadata": {
        "colab": {
          "base_uri": "https://localhost:8080/"
        },
        "id": "JLc-vnKOTxQl",
        "outputId": "c4eb4be6-302d-4e4f-bf7f-7cb17900c43e"
      },
      "execution_count": 21,
      "outputs": [
        {
          "output_type": "stream",
          "name": "stdout",
          "text": [
            "André\n",
            "Beatriz\n",
            "Carlos\n",
            "Daiane\n",
            "Epaminondas\n"
          ]
        }
      ]
    },
    {
      "cell_type": "code",
      "source": [
        "# nomes = [\"Danielle\", \"João\", \"Maria\", \"José\"]\n",
        "# medias_finais = [9.5, 5.4, 3.2, 7.9]\n",
        "\n",
        "# Percorrer as listas mostrando o nome e a média final dos alunos\n",
        "for i in range(4):\n",
        "  print(\"\\n\\n Índice: \", i)\n",
        "  print(\"\\nNome do aluno: \", nomes[i])\n",
        "  print(\"\\nNota do aluno: \", medias_finais[i])"
      ],
      "metadata": {
        "colab": {
          "base_uri": "https://localhost:8080/"
        },
        "id": "e2fBdU-5PvRn",
        "outputId": "3f6b0eee-18d4-413f-9cdf-be23091abcd2"
      },
      "execution_count": 23,
      "outputs": [
        {
          "output_type": "stream",
          "name": "stdout",
          "text": [
            "\n",
            "\n",
            " Índice:  0\n",
            "\n",
            "Nome do aluno:  Danielle\n",
            "\n",
            "Nota do aluno:  9.5\n",
            "\n",
            "\n",
            " Índice:  1\n",
            "\n",
            "Nome do aluno:  João\n",
            "\n",
            "Nota do aluno:  5.4\n",
            "\n",
            "\n",
            " Índice:  2\n",
            "\n",
            "Nome do aluno:  Maria\n",
            "\n",
            "Nota do aluno:  3.2\n",
            "\n",
            "\n",
            " Índice:  3\n",
            "\n",
            "Nome do aluno:  José\n",
            "\n",
            "Nota do aluno:  7.9\n"
          ]
        }
      ]
    },
    {
      "cell_type": "code",
      "source": [
        "# Alterar informações numa lista\n",
        "for i in range(4):\n",
        "  medias_finais[i] = medias_finais[i] + 1.0\n",
        "print(medias_finais)"
      ],
      "metadata": {
        "colab": {
          "base_uri": "https://localhost:8080/"
        },
        "id": "B0ZYkRU0U5Zh",
        "outputId": "ddb5e899-b0ba-49ef-d56e-9620ac058eb2"
      },
      "execution_count": 24,
      "outputs": [
        {
          "output_type": "stream",
          "name": "stdout",
          "text": [
            "[10.5, 6.4, 4.2, 8.9]\n"
          ]
        }
      ]
    },
    {
      "cell_type": "code",
      "source": [
        "nomes[0] = \"Joaquina\"\n",
        "print(nomes)"
      ],
      "metadata": {
        "colab": {
          "base_uri": "https://localhost:8080/"
        },
        "id": "M3N_7awwVoqd",
        "outputId": "43fd74ea-cde9-416b-ea73-9a18208db65c"
      },
      "execution_count": 25,
      "outputs": [
        {
          "output_type": "stream",
          "name": "stdout",
          "text": [
            "['Joaquina', 'João', 'Maria', 'José']\n"
          ]
        }
      ]
    },
    {
      "cell_type": "code",
      "source": [],
      "metadata": {
        "id": "Pzx-k-HbV9rY"
      },
      "execution_count": null,
      "outputs": []
    }
  ]
}