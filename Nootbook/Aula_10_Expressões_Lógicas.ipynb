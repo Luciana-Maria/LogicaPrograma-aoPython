{
  "nbformat": 4,
  "nbformat_minor": 0,
  "metadata": {
    "colab": {
      "provenance": []
    },
    "kernelspec": {
      "name": "python3",
      "display_name": "Python 3"
    },
    "language_info": {
      "name": "python"
    }
  },
  "cells": [
    {
      "cell_type": "markdown",
      "source": [
        "### Exercício 1\n",
        "\n",
        "A Secretaria de Meio Ambiente que controla o índice de poluição municipal gerencia 3 grupos de indústrias que são altamente poluentes. O índice de poluição aceitável varia de 5% até 30%. Se o índice sobe para além de 30% as indústrias do 1º grupo são intimadas a suspenderem suas atividades. Se o índice ultrapassar os 40% as industrias do 1º e 2º grupo serão intimadas. Se o índice ficar acima de 50% todos os grupos devem ser notificados e paralisarem suas atividades. Faça um algoritmo que leia o índice de poluição e emita a notificação adequada aos diferentes grupos de empresas.​"
      ],
      "metadata": {
        "id": "WlbpPMcQGDk5"
      }
    },
    {
      "cell_type": "code",
      "execution_count": null,
      "metadata": {
        "id": "NbB0Tk3uF93F",
        "colab": {
          "base_uri": "https://localhost:8080/"
        },
        "outputId": "c0baeda3-d4b2-4505-c380-873c58beb97c"
      },
      "outputs": [
        {
          "output_type": "stream",
          "name": "stdout",
          "text": [
            "Informe o índice de poluição: 45\n",
            "Indústrias do primeiro grupo, suspendam as atividades\n"
          ]
        }
      ],
      "source": [
        "indice = float(input(\"Informe o índice de poluição: \"))\n",
        "\n",
        "if indice > 30 and indice <= 40:\n",
        "  print(\"Indústrias do primeiro grupo, suspendam as atividades\")\n",
        "elif indice > 40 and indice <= 50:\n",
        "  print(\"Indústrias do primeiro e segundo grupo, suspendam as atividades\")\n",
        "elif indice > 50:\n",
        "  print(\"Todas as indústrias, suspendam as atividades\")\n",
        "else:\n",
        "  print(\"O índice de poluição está aceitável\")"
      ]
    },
    {
      "cell_type": "markdown",
      "source": [
        "### Exercício 2\n",
        "\n",
        "Dada a idade de um atleta, classifique-o em uma das seguintes categorias:​\n",
        "- Infantil = de 6 até 11 anos​\n",
        "- Juvenil = de 12 até 17 anos​\n",
        "- Adulto = 18 anos até 35 anos\n",
        "\n",
        "Caso o atleta não se enquadre em nenhuma dessas categorias, emita a mensagem: \"Atleta não pode competir\"."
      ],
      "metadata": {
        "id": "pSHTpph-6sn2"
      }
    },
    {
      "cell_type": "code",
      "source": [
        "# ENTRADA\n",
        "idade = int(input(\"Informe a idade do atleta: \"))\n",
        "# PROCESSAMENTO\n",
        "if idade >= 6 and idade <= 11:\n",
        "  # SAÍDA\n",
        "  print(\"Categoria INFANTIL\")\n",
        "elif idade >= 12 and idade <= 17:\n",
        "  # SAÍDA\n",
        "  print(\"Categoria JUVENIL\")\n",
        "elif idade >= 18 and idade <= 35:\n",
        "  # SAÍDA\n",
        "  print(\"Categoria ADULTO\")\n",
        "else:\n",
        "  # SAÍDA\n",
        "  print(\"Atleta não pode competir.\")"
      ],
      "metadata": {
        "colab": {
          "base_uri": "https://localhost:8080/"
        },
        "id": "8nbeISMM7DtG",
        "outputId": "9c7f3690-2826-4594-a6b9-2db216d6c19a"
      },
      "execution_count": 6,
      "outputs": [
        {
          "output_type": "stream",
          "name": "stdout",
          "text": [
            "Informe a idade do atleta: 16\n",
            "Categoria JUVENIL\n"
          ]
        }
      ]
    },
    {
      "cell_type": "markdown",
      "source": [
        "### Exercício 3\n",
        "\n",
        "Os interessados em se matricularem nos cursos do Programa SENAC de gratuidade devem ter no mínimo 16 anos completos e ter uma renda per capita familiar de até 1,5 salário mínimo. Sabendo disso, siga os seguintes passos:\n",
        "- Receba a idade do usuário, a renda total familiar e a quantidade de pessoas que moram na mesma residência.\n",
        "- Calcule a renda per capita familiar dividindo a renda total pelo número de pessoas\n",
        "- Verifique se o usuário atende às duas condições necessárias para se matricular. Caso atenda, emita uma mensagem positiva. Caso não atenda, emita uma mensagem negativa."
      ],
      "metadata": {
        "id": "da9lreQ57SCl"
      }
    },
    {
      "cell_type": "code",
      "source": [
        "# ENTRADA\n",
        "idade = int(input(\"Informe a idade: \"))\n",
        "renda_total = float(input(\"Informe a renda total: \"))\n",
        "quantidade_pessoas = int(input(\"Informe a quantidade de pessoas: \"))\n",
        "\n",
        "# PROCESSAMENTO\n",
        "per_capita = renda_total / quantidade_pessoas\n",
        "\n",
        "if idade >= 16 and per_capita <= 2118:\n",
        "  # SAÍDA\n",
        "  print(\"Pode se matricular.\")\n",
        "else:\n",
        "  # SAÍDA\n",
        "  print(\"Não pode se matricular.\")"
      ],
      "metadata": {
        "colab": {
          "base_uri": "https://localhost:8080/"
        },
        "id": "bSAyIUfN8toq",
        "outputId": "d9fd0230-c4f9-4d5b-ce8f-f2f6183e35f3"
      },
      "execution_count": 8,
      "outputs": [
        {
          "output_type": "stream",
          "name": "stdout",
          "text": [
            "Informe a idade: 20\n",
            "Informe a renda total: 4000\n",
            "Informe a quantidade de pessoas: 4\n",
            "Pode se matricular.\n"
          ]
        }
      ]
    },
    {
      "cell_type": "code",
      "source": [
        "# ENTRADA\n",
        "idade = int(input(\"Informe a idade: \"))\n",
        "renda_total = float(input(\"Informe a renda total: \"))\n",
        "quantidade_pessoas = int(input(\"Informe a quantidade de pessoas: \"))\n",
        "salario_minimo = float(input(\"Informe o valor do salário mínimo: \"))\n",
        "\n",
        "# PROCESSAMENTO\n",
        "per_capita = renda_total / quantidade_pessoas\n",
        "\n",
        "if idade >= 16 and per_capita <= salario_minimo * 1.5:\n",
        "  # SAÍDA\n",
        "  print(\"Pode se matricular.\")\n",
        "else:\n",
        "  # SAÍDA\n",
        "  print(\"Não pode se matricular.\")"
      ],
      "metadata": {
        "colab": {
          "base_uri": "https://localhost:8080/"
        },
        "id": "8ve0erbYfOTL",
        "outputId": "b3727b27-9e9b-48b7-8da4-40db913dffd5"
      },
      "execution_count": 9,
      "outputs": [
        {
          "output_type": "stream",
          "name": "stdout",
          "text": [
            "Informe a idade: 30\n",
            "Informe a renda total: 2000\n",
            "Informe a quantidade de pessoas: 1\n",
            "Informe o valor do salário mínimo: 2000\n",
            "Pode se matricular.\n"
          ]
        }
      ]
    },
    {
      "cell_type": "code",
      "source": [
        "# ENTRADA\n",
        "idade = int(input(\"Informe a idade: \"))\n",
        "# PROCESSAMENTO\n",
        "if idade < 16:\n",
        "  # SAÍDA\n",
        "  print(\"Não pode se matricular\")\n",
        "else:\n",
        "  # ENTRADA\n",
        "  renda_total = float(input(\"Informe a renda total: \"))\n",
        "  quantidade_pessoas = int(input(\"Informe a quantidade de pessoas: \"))\n",
        "  salario_minimo = float(input(\"Informe o valor do salário mínimo: \"))\n",
        "  # PROCESSAMENTO\n",
        "  per_capita = renda_total / quantidade_pessoas\n",
        "  if per_capita <= salario_minimo * 1.5:\n",
        "    # SAÍDA\n",
        "    print(\"Pode se matricular.\")\n",
        "  else:\n",
        "    # SAÍDA\n",
        "    print(\"Não pode se matricular.\")"
      ],
      "metadata": {
        "id": "5ZW2BU88f-Z-"
      },
      "execution_count": null,
      "outputs": []
    },
    {
      "cell_type": "markdown",
      "source": [
        "### Exercício 4\n",
        "\n",
        "Os alunos de uma faculdade são avaliados por nota e frequência. Para serem aprovados, sua média final deve ser igual ou acima de 7.0 e a frequência igual ou superior a 75%. Sabendo disto, siga os passos a seguir:\n",
        "- Calcule a média aritmética entre as 4 notas do aluno. Considere que as notas vão de 0 a 10.\n",
        "- Calcule a frequência nos encontros presenciais da seguinte forma:\n",
        "  - Receba do usuário o total de aulas que o aluno assistiu (de 1 a 20)\n",
        "  - Divida o total de aulas assistidas pelo total de aulas (20).\n",
        "- Se o aluno atender aos critérios de aprovação, informe que ele foi aprovado. Senão, informe que ele foi reprovado."
      ],
      "metadata": {
        "id": "_xhEhz-j8xSP"
      }
    },
    {
      "cell_type": "code",
      "source": [
        "# ENTRADAS\n",
        "n1 = float(input(\"Digite a nota 1:\"))\n",
        "n2 = float(input(\"Digite a nota 2:\"))\n",
        "n3 = float(input(\"Digite a nota 3: \"))\n",
        "n4 = float(input(\"Digite a nota 4: \"))\n",
        "aulas_assistidas = int(input(\"Digite o total de aulas assistidas: \"))\n",
        "\n",
        "# PROCESSAMENTO\n",
        "media_aritmetica = (n1 + n2 + n3 + n4) / 4\n",
        "frequencia = aulas_assistidas / 20\n",
        "\n",
        "print(\"A média é: \", media_aritmetica)\n",
        "print(\"A frequência é: \", frequencia*100,\"%\")\n",
        "\n",
        "if media_aritmetica >= 7.0 and frequencia >= 0.75:\n",
        "  print(\"Aprovado\")\n",
        "else:\n",
        "  print(\"Reprovado\")"
      ],
      "metadata": {
        "colab": {
          "base_uri": "https://localhost:8080/"
        },
        "id": "6gdEqEBk-JzE",
        "outputId": "b152ade9-8a31-4634-fb08-d4866405b774"
      },
      "execution_count": 16,
      "outputs": [
        {
          "output_type": "stream",
          "name": "stdout",
          "text": [
            "Digite a nota 1:8\n",
            "Digite a nota 2:8\n",
            "Digite a nota 3: 8\n",
            "Digite a nota 4: 8\n",
            "Digite o total de aulas assistidas: 20\n",
            "A média é:  8.0\n",
            "A frequência é:  100.0 %\n",
            "Aprovado\n"
          ]
        }
      ]
    }
  ]
}