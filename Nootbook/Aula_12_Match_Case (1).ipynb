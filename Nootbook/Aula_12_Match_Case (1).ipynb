{
  "nbformat": 4,
  "nbformat_minor": 0,
  "metadata": {
    "colab": {
      "provenance": []
    },
    "kernelspec": {
      "name": "python3",
      "display_name": "Python 3"
    },
    "language_info": {
      "name": "python"
    }
  },
  "cells": [
    {
      "cell_type": "markdown",
      "source": [
        "## Match...Case [ESCOLHA...CASO]\n",
        "\n",
        "Exemplos"
      ],
      "metadata": {
        "id": "VYL5kUjYv4FZ"
      }
    },
    {
      "cell_type": "code",
      "source": [
        "mes = int(input(\"Digite o número do mês: \"))\n",
        "\n",
        "match mes:\n",
        "  case 1:\n",
        "    print(\"Janeiro\")\n",
        "  case 2:\n",
        "    print(\"Fevereiro\")\n",
        "  case 3:\n",
        "    print(\"Março\")\n",
        "  case 4:\n",
        "    print(\"Abril\")\n",
        "  case 5:\n",
        "    print(\"Maio\")\n",
        "  case 6:\n",
        "    print(\"Junho\")\n",
        "  case 7:\n",
        "    print(\"Julho\")\n",
        "  case 8:\n",
        "    print(\"Agosto\")\n",
        "  case 9:\n",
        "    print(\"Setembro\")\n",
        "  case 10:\n",
        "    print(\"Outubro\")\n",
        "  case 11:\n",
        "    print(\"Novembro\")\n",
        "  case 12:\n",
        "    print(\"Dezembro\")\n",
        "  case _:\n",
        "    print(\"Mês inexistente\")\n"
      ],
      "metadata": {
        "colab": {
          "base_uri": "https://localhost:8080/"
        },
        "id": "hyFG49LHrsEX",
        "outputId": "7ada7c09-542f-4789-98fe-5f4511625ad4"
      },
      "execution_count": null,
      "outputs": [
        {
          "output_type": "stream",
          "name": "stdout",
          "text": [
            "Digite o número do mês: 15\n",
            "Mês inexistente\n"
          ]
        }
      ]
    },
    {
      "cell_type": "code",
      "execution_count": null,
      "metadata": {
        "colab": {
          "base_uri": "https://localhost:8080/"
        },
        "id": "VRDrvrFPpPSj",
        "outputId": "3ccc37df-8a8b-4a23-94aa-919e6966ee8a"
      },
      "outputs": [
        {
          "output_type": "stream",
          "name": "stdout",
          "text": [
            "Digite um número entre 1 e 10: 18\n",
            "Número não está entre 1 e 10\n"
          ]
        }
      ],
      "source": [
        "num = int(input(\"Digite um número entre 1 e 10: \"))\n",
        "\n",
        "match num:\n",
        "  # o operador \" | \" tem a mesma função lógica do operador \" or \"\n",
        "  case 2 | 4 | 6 | 8 | 10:\n",
        "      print(\"Número par\")\n",
        "  # no match...case só é permitido o uso do operador \" | \"\n",
        "  case 1 | 3 | 5 | 7 | 9:\n",
        "      print(\"Número ímpar\")\n",
        "  case _:\n",
        "      print(\"Número não está entre 1 e 10\")"
      ]
    },
    {
      "cell_type": "markdown",
      "source": [
        "## Exercício 1\n",
        "\n",
        "Receba do usuário dois números inteiros quaisquer X e Y e receba também a operação que o usuário deseja realizar entre estes números.\n",
        "\n",
        "Caso a operação selecionada seja:\n",
        "- \" + \" : realize a adição (X + Y)\n",
        "- \" - \" : realize a subtração (X - Y)\n",
        "- \" / \" : realize a divisão (X / Y)\n",
        "- \" * \" : realize a multiplicação (X * Y)\n",
        "\n",
        "Porém, se o usuário digitar qualquer outra coisa, emita uma mensagem de erro."
      ],
      "metadata": {
        "id": "jggpePojwXzI"
      }
    },
    {
      "cell_type": "code",
      "source": [
        "x = int(input(\"Digite o primeiro número: \"))\n",
        "y = int(input(\"Digite o segundo número: \"))\n",
        "print(\"Escolha a operação a ser realizada \\n + : adição \\n - : subtração \\n / : divisão \\n * : multiplicação\")\n",
        "operacao = input(\"Digite a operação: \")\n",
        "\n",
        "match operacao:\n",
        "  case \"+\":\n",
        "    print(\"A soma de\", x, \"e\", y, \"é:\", x + y)\n",
        "  case \"-\":\n",
        "    print(\"A subtração de\", x, \"e\", y, \"é:\", x - y)\n",
        "  case \"/\":\n",
        "    print(\"A divisão de\", x, \"e\", y, \"é:\", x / y)\n",
        "  case \"*\":\n",
        "    print(\"A multiplicação de\", x, \"e\", y, \"é:\", x * y)\n",
        "  case _:\n",
        "    print(\"Opção inválida!\")"
      ],
      "metadata": {
        "colab": {
          "base_uri": "https://localhost:8080/"
        },
        "id": "XTARzleVwZwS",
        "outputId": "2ba9e0a7-6fb0-420d-84bc-af03309dcdd2"
      },
      "execution_count": null,
      "outputs": [
        {
          "output_type": "stream",
          "name": "stdout",
          "text": [
            "Digite o primeiro número: 2\n",
            "Digite o segundo número: 3\n",
            "Escolha a operação a ser realizada \n",
            " + : adição \n",
            " - : subtração \n",
            " / : divisão \n",
            " * : multiplicação\n",
            "Digite a operação: *\n",
            "A multiplicação de 2 e 3 é: 6\n"
          ]
        }
      ]
    },
    {
      "cell_type": "markdown",
      "source": [
        "## Exercício 2\n",
        "\n",
        "Mostre ao usuário o seguinte menu de opções:\n",
        "<br><br>\n",
        "*FORMAS GEOMÉTRICAS - CALCULAR ÁREA*\n",
        "\n",
        "*Selecione uma forma geométrica:*\n",
        "\n",
        "*a) Círculo*\n",
        "\n",
        "*b) Triângulo*\n",
        "\n",
        "*c) Quadrado*\n",
        "\n",
        "*d) Losango*\n",
        "<br><br>\n",
        "De acordo com a opção selecionada, execute o cálculo correspondente. Se a opção digitada não estiver no menu, emita uma mensagem de erro.\n"
      ],
      "metadata": {
        "id": "d4uKVwYmxqN4"
      }
    },
    {
      "cell_type": "code",
      "source": [
        "print(\" FORMAS GEOMÉTRICAS - CALCULAR ÁREA\")\n",
        "print(\" a) Círculo \\n b) Triângulo \\n c) Quadrado \\n d) Losango\")\n",
        "opcao = input(\"Selecione uma opção: \")\n",
        "\n",
        "match opcao:\n",
        "  case \"a\":\n",
        "    print(\"Calcular área do círculo\") # area = pi * raio²\n",
        "    raio = float(input(\"Informe o valor do raio: \"))\n",
        "    area = 3.14 * raio**2 # ou 3.14 * raio * raio\n",
        "    print(\"A área do círculo é: \", area)\n",
        "  case \"b\":\n",
        "    print(\"Calcular área do triângulo\") # (base * altura) / 2\n",
        "    base = float(input(\"Informe o valor da base: \"))\n",
        "    altura = float(input(\"Informe o valor da altura: \"))\n",
        "    area = (base * altura) / 2\n",
        "    print(\"A área do triângulo é: \", area)\n",
        "  case \"c\":\n",
        "    print(\"Calcular área do quadrado\") # lado²\n",
        "    lado = float(input(\"Informe o valor do lado: \"))\n",
        "    area = lado**2 # ou lado * lado\n",
        "    print(\"A área do quadrado é: \", area)\n",
        "  case \"d\":\n",
        "    print(\"Calcular área do losango\") # (dmaior * dmenor) / 2\n",
        "    dmaior = float(input(\"Informe o valor da diagomal maior: \"))\n",
        "    dmenor = float(input(\"Informe o valor da diagonal menor: \"))\n",
        "    area = (dmaior * dmenor) / 2\n",
        "    print(\"A área do losango é: \", area)\n",
        "  case _:\n",
        "    print(\"Opção inválida!\")"
      ],
      "metadata": {
        "id": "OZXrgvzry6VW",
        "colab": {
          "base_uri": "https://localhost:8080/"
        },
        "outputId": "2a4b2a80-68a7-44b6-ee20-5d5f3efd83e9"
      },
      "execution_count": 9,
      "outputs": [
        {
          "output_type": "stream",
          "name": "stdout",
          "text": [
            " FORMAS GEOMÉTRICAS - CALCULAR ÁREA\n",
            " a) Círculo \n",
            " b) Triângulo \n",
            " c) Quadrado \n",
            " d) Losango\n",
            "Selecione uma opção: d\n",
            "Calcular área do losango\n",
            "Informe o valor da diagomal maior: 4\n",
            "Informe o valor da diagonal menor: 2\n",
            "A área do losango é:  4.0\n"
          ]
        }
      ]
    },
    {
      "cell_type": "markdown",
      "source": [
        "## Exercício 3\n",
        "\n",
        "Mostre ao usuário o seguinte menu de opções:\n",
        "<br><br>\n",
        "*SÓLIDOS GEOMÉTRICOS - CALCULAR VOLUME*\n",
        "\n",
        "*Selecione uma forma geométrica:*\n",
        "\n",
        "*a) Esfera*\n",
        "\n",
        "*b) Cilindro*\n",
        "\n",
        "*c) Cone*\n",
        "\n",
        "*d) Pirâmide*\n",
        "<br><br>\n",
        "De acordo com a opção selecionada, execute o cálculo correspondente. Se a opção digitada não estiver no menu, emita uma mensagem de erro."
      ],
      "metadata": {
        "id": "iOmdEs2qGDbb"
      }
    },
    {
      "cell_type": "code",
      "source": [
        "import math\n",
        "\n",
        "print(\" SÓLIDOS GEOMÉTRICOS - CALCULAR VOLUME\")\n",
        "print(\" a) Esfera \\n b) Cilindro \\n c) Cone \\n d) Pirâmide\")\n",
        "opcao = input(\"Selecione uma opção: \")\n",
        "PI = 3.14 # em snake_case, padrão de nomenclatura de variáveis do Python, as constantes são maiúsculas\n",
        "\n",
        "match opcao:\n",
        "  case \"a\":\n",
        "    print(\"Calcular volume da esfera\") # (4/3) * π * r³\n",
        "    r = float(input(\"Digite o valor do raio: \"))\n",
        "    vol = (4/3) * PI * r**3\n",
        "    # vol = 1.33 * PI * math.pow(r, 3)\n",
        "    # vol = 1.33 * PI * r * r * r\n",
        "    print(vol)\n",
        "  case \"b\":\n",
        "    print(\"Calcular volume do cilindro\") #  π * r² * h\n",
        "    r = float(input(\"Digite o valor do raio: \"))\n",
        "    h = float(input(\"Digite o valor da altura: \"))\n",
        "    vol = PI * pow(r, 2) * h\n",
        "    # vol = PI * r**2 * h\n",
        "    # vol = PI * r * r * h\n",
        "    print(vol)\n",
        "  case \"c\":\n",
        "    print(\"Calcular volume do cone\") # (1/3) * π * r² * h\n",
        "    r = float(input(\"Digite o valor do raio: \"))\n",
        "    h = float(input(\"Digite o valor da altura: \"))\n",
        "    vol = (1/3) * PI * r**2 * h\n",
        "    # vol = 0.33 * PI * r**2 * h\n",
        "    print(vol)\n",
        "  case \"d\":\n",
        "    print(\"Calcular área da pirâmide\") # (1/3) * l² * h\n",
        "    l = float(input(\"Digite o valor do lado: \"))\n",
        "    h = float(input(\"Digite o valor da altura: \"))\n",
        "    vol = 0.33 * l**2 * h\n",
        "    # vol (1/3) * math.pow(l, 2) * h\n",
        "    print(vol)\n",
        "  case _:\n",
        "    print(\"Opção inválida!\")"
      ],
      "metadata": {
        "id": "u_SKlkfRGpsf",
        "colab": {
          "base_uri": "https://localhost:8080/"
        },
        "outputId": "8ae32683-9b93-41da-ee16-582ed39707ec"
      },
      "execution_count": 11,
      "outputs": [
        {
          "output_type": "stream",
          "name": "stdout",
          "text": [
            " SÓLIDOS GEOMÉTRICOS - CALCULAR VOLUME\n",
            " a) Esfera \n",
            " b) Cilindro \n",
            " c) Cone \n",
            " d) Pirâmide\n",
            "Selecione uma opção: a\n",
            "Calcular volume da esfera\n",
            "Digite o valor do raio: 3\n",
            "113.03999999999999\n"
          ]
        }
      ]
    }
  ]
}