{
  "nbformat": 4,
  "nbformat_minor": 0,
  "metadata": {
    "colab": {
      "provenance": []
    },
    "kernelspec": {
      "name": "python3",
      "display_name": "Python 3"
    },
    "language_info": {
      "name": "python"
    }
  },
  "cells": [
    {
      "cell_type": "markdown",
      "source": [
        "## Como abrir um notebook Colab\n",
        "\n",
        "1. Digite na barra de pesquisa \"google colab\" ou acesse diretamente o endereço \"colab.research.google.com\". Se você digitar somente \"colab.google.com\" também vai dar certo!\n",
        "\n",
        "2. Se você não estiver logado na sua conta do Google, faça o login. Assim todos os seus notebooks serão salvos no seu Google Drive.\n",
        "\n",
        "3. Se a janela \"Abrir notebook\" não estiver aberta automaticamente para você na tela inicial, basta clicar no menu \"Arquivo -> Abrir notebook\". Para abrir um notebook recente, escolha uma das opções sugeridas. Para criar um notebook, clique no botão \"Novo notebook\". Você pode criar um notebook novo diretamente pelo menu clicando em \"Arquivo -> Novo notebook no drive\"."
      ],
      "metadata": {
        "id": "WQepLTMkg6DE"
      }
    },
    {
      "cell_type": "markdown",
      "source": [
        "## Como funciona o Colab\n",
        "\n",
        "O Colab é um ambiente virtual na nuvem que já tem o Python instalado e fornece recursos de Memória RAM (Memória de Processamento), Memória de Armazenamento e Processadores (CPU, GPU ou TPU) para executar código em Python. Muitas bibliotecas da linguagem Python já vêm instaladas no Colab, inclusive as principais bibliotecas de Análise de Dados.\n",
        "\n",
        "No Colab há dois tipos de escrita: o **TEXTO** e o **CÓDIGO**\n",
        "\n",
        "### Células de texto\n",
        "\n",
        "O texto é escrito em linguagem *Markdown*, serve para escrever textos diversos que apresentam o que está sendo feito. Lembre-se de que o notebook é um **DOCUMENTO**, que pode inclusive ser impresso!\n",
        "\n",
        "Algumas formatações do Markdown:\n",
        "- Negrito: colocar o texto entre dois asteriscos\n",
        "- Itálico: colocar o texto entre um asterisco\n",
        "- Negrito e Itálico: colocar o texto entre três asteriscos\n",
        "- Títulos: uso das hashtags; uma hashtag significa título principal, duas hashtags significa subtítulo e assim por diante até cinco hashtags.\n",
        "- Lista ordenada: coloque o número 1 seguido de um ponto \".\" que ele já identifica que se trata de uma lista e aplica a numeração aos parágrafos seguintes.\n",
        "- Lista não ordenada: basta colocar o traço atrás dos itens da lista.\n",
        "\n",
        "### Células de código\n",
        "\n",
        "Servem para escrever códigos em Python. Não é possível, até o momento, utilizar o Colab com outra linguagem. Todos os notebooks são salvos com a extensão \".ipynb\" que significa \"iPython Notebook\", deixando bem claro que são arquivos Python.\n",
        "\n",
        "***ATENÇÃO***: Nas células de código, as hashtags são utilizadas para comentários: textos dentro do código que servem para explicá-lo ou organizado"
      ],
      "metadata": {
        "id": "Tex7eLwOiXoa"
      }
    }
  ]
}