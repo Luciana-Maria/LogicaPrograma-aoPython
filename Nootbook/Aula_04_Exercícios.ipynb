{
  "nbformat": 4,
  "nbformat_minor": 0,
  "metadata": {
    "colab": {
      "provenance": []
    },
    "kernelspec": {
      "name": "python3",
      "display_name": "Python 3"
    },
    "language_info": {
      "name": "python"
    }
  },
  "cells": [
    {
      "cell_type": "markdown",
      "source": [
        "**EXERCÍCIO 1​**\n",
        "\n",
        "Se a variável X foi inicializada com o valor 15 e foram executadas as seguintes instruções:​\n",
        "\n",
        "X ← X + 3​\n",
        "\n",
        "X ← X - 6​\n",
        "\n",
        "X ← X / 2​\n",
        "\n",
        "X ← 3 * X​\n",
        "\n",
        "Qual será o valor final armazenado em X?"
      ],
      "metadata": {
        "id": "1Pt_cgwR4biH"
      }
    },
    {
      "cell_type": "code",
      "source": [
        "x = 15\n",
        "print(x)"
      ],
      "metadata": {
        "colab": {
          "base_uri": "https://localhost:8080/"
        },
        "id": "unCaqcEXDnok",
        "outputId": "af6d242c-c953-4a90-8cbc-3032501c786b"
      },
      "execution_count": 23,
      "outputs": [
        {
          "output_type": "stream",
          "name": "stdout",
          "text": [
            "15\n"
          ]
        }
      ]
    },
    {
      "cell_type": "code",
      "source": [
        "x = x + 3\n",
        "print(x)"
      ],
      "metadata": {
        "colab": {
          "base_uri": "https://localhost:8080/"
        },
        "id": "Cl3SOLNcD7Y0",
        "outputId": "0e3d970d-0a65-44d2-d1f8-b6cc87688df1"
      },
      "execution_count": 24,
      "outputs": [
        {
          "output_type": "stream",
          "name": "stdout",
          "text": [
            "18\n"
          ]
        }
      ]
    },
    {
      "cell_type": "code",
      "source": [
        "x = x - 6\n",
        "print(x)"
      ],
      "metadata": {
        "colab": {
          "base_uri": "https://localhost:8080/"
        },
        "id": "AKndgbZfEumB",
        "outputId": "d76612b5-7b75-4d38-8536-c9ea00f935fb"
      },
      "execution_count": 25,
      "outputs": [
        {
          "output_type": "stream",
          "name": "stdout",
          "text": [
            "12\n"
          ]
        }
      ]
    },
    {
      "cell_type": "code",
      "source": [
        "x = x / 2\n",
        "print(x)"
      ],
      "metadata": {
        "colab": {
          "base_uri": "https://localhost:8080/"
        },
        "id": "OXz_CalUE7pk",
        "outputId": "37292664-2541-483e-8e2d-e4ce41230205"
      },
      "execution_count": 26,
      "outputs": [
        {
          "output_type": "stream",
          "name": "stdout",
          "text": [
            "6.0\n"
          ]
        }
      ]
    },
    {
      "cell_type": "code",
      "source": [
        "x = 3 * x\n",
        "print(x)"
      ],
      "metadata": {
        "colab": {
          "base_uri": "https://localhost:8080/"
        },
        "id": "El82AdbkFZjF",
        "outputId": "840f74a4-f916-4823-d024-61ad3bd6ddfd"
      },
      "execution_count": 27,
      "outputs": [
        {
          "output_type": "stream",
          "name": "stdout",
          "text": [
            "18.0\n"
          ]
        }
      ]
    },
    {
      "cell_type": "markdown",
      "source": [
        "**EXERCÍCIO 2​**\n",
        "\n",
        "Qual o valor final das variáveis A e B, após a execução das instruções abaixo?​\n",
        "\n",
        "A ← 3​\n",
        "\n",
        "B ← A * 5​\n",
        "\n",
        "A ← B MOD 2​\n",
        "\n",
        "B ← A – 10"
      ],
      "metadata": {
        "id": "RsznDwjG5pt-"
      }
    },
    {
      "cell_type": "code",
      "source": [
        "a = 3\n",
        "print(a)"
      ],
      "metadata": {
        "colab": {
          "base_uri": "https://localhost:8080/"
        },
        "id": "lxwCLvcPF1sm",
        "outputId": "3530d5de-521b-4d38-b9fb-4e8705db7f05"
      },
      "execution_count": 28,
      "outputs": [
        {
          "output_type": "stream",
          "name": "stdout",
          "text": [
            "3\n"
          ]
        }
      ]
    },
    {
      "cell_type": "code",
      "source": [
        "b = a * 5\n",
        "print(a,b)"
      ],
      "metadata": {
        "colab": {
          "base_uri": "https://localhost:8080/"
        },
        "id": "XHimx2iwF8DJ",
        "outputId": "00e40a56-ba3c-45d1-9230-b921a94a2ccf"
      },
      "execution_count": 29,
      "outputs": [
        {
          "output_type": "stream",
          "name": "stdout",
          "text": [
            "3 15\n"
          ]
        }
      ]
    },
    {
      "cell_type": "code",
      "source": [
        "a = b % 2\n",
        "print(a,b)"
      ],
      "metadata": {
        "colab": {
          "base_uri": "https://localhost:8080/"
        },
        "id": "CzKXC6UrGJes",
        "outputId": "736c9426-0448-408a-968a-2e9c0032b9e6"
      },
      "execution_count": 30,
      "outputs": [
        {
          "output_type": "stream",
          "name": "stdout",
          "text": [
            "1 15\n"
          ]
        }
      ]
    },
    {
      "cell_type": "code",
      "source": [
        "b = a - 10\n",
        "print(a,b)"
      ],
      "metadata": {
        "colab": {
          "base_uri": "https://localhost:8080/"
        },
        "id": "eqPIxw_kHHGh",
        "outputId": "71651ba1-309f-4a01-be28-9c562eb16217"
      },
      "execution_count": 31,
      "outputs": [
        {
          "output_type": "stream",
          "name": "stdout",
          "text": [
            "1 -9\n"
          ]
        }
      ]
    },
    {
      "cell_type": "markdown",
      "source": [
        "***Questão 1***\n",
        "\n",
        "Crie um algoritmo em Python que converta uma temperatura de graus celsius para graus Fahrenheit. Qual será o valor em Fahrenheit da temperatura 30ºC?\n",
        "\n",
        "FÓRMULA: fahrenheit = (celsius *  9/5) + 32"
      ],
      "metadata": {
        "id": "ne21tFNuMXV-"
      }
    },
    {
      "cell_type": "code",
      "source": [
        "# ENTRADA\n",
        "celsius = float(input(\"Informe a temperatura em graus celsius\"))\n",
        "# PROCESSAMENTO\n",
        "fahrenheit = (celsius * (9/5)) + 32\n",
        "# SAÍDA\n",
        "print(fahrenheit)"
      ],
      "metadata": {
        "colab": {
          "base_uri": "https://localhost:8080/"
        },
        "id": "YR1NVoVFMkdV",
        "outputId": "d1d7861f-9363-4534-9ee4-bb5d21e02f49"
      },
      "execution_count": 42,
      "outputs": [
        {
          "output_type": "stream",
          "name": "stdout",
          "text": [
            "Informe a temperatura em graus celsius30\n",
            "86.0\n"
          ]
        }
      ]
    },
    {
      "cell_type": "markdown",
      "source": [
        "***Questão 2***\n",
        "\n",
        "Crie um algoritmo em Python que converta um valor em euros para reais. Considerando que a cotação do euro é de R$5,86, quanto valem 50 euros em reais?"
      ],
      "metadata": {
        "id": "3Aq9ccR2Mzu2"
      }
    },
    {
      "cell_type": "code",
      "source": [
        "# ENTRADA\n",
        "valor_euros = float(input(\"Informe o valor em euros: \"))\n",
        "cotacao = float(input(\"Informe o valor da cotação do euro: \"))\n",
        "# PROCESSAMENTO\n",
        "valor_reais = valor_euros  *  cotacao\n",
        "# SAÍDA\n",
        "print(valor_reais)"
      ],
      "metadata": {
        "colab": {
          "base_uri": "https://localhost:8080/"
        },
        "id": "NjyDpdxYbaWI",
        "outputId": "0722649e-ef56-4bc7-c440-2b496eebdafb"
      },
      "execution_count": 41,
      "outputs": [
        {
          "output_type": "stream",
          "name": "stdout",
          "text": [
            "Informe o valor em euros: 50\n",
            "Informe o valor da cotação do euro: 5.86\n",
            "293.0\n"
          ]
        }
      ]
    },
    {
      "cell_type": "code",
      "source": [
        "#   1 euro  -  5.86 reais\n",
        "#  50 euros -  x    reais\n",
        "\n",
        "# x reais       =     50 euros  *  5.86 reais\n",
        "\n",
        "# ---------------------------------------------\n",
        "# valor_reais   =  valor_euros  *  cotacao"
      ],
      "metadata": {
        "id": "s4RA_xPkM4tm"
      },
      "execution_count": null,
      "outputs": []
    },
    {
      "cell_type": "markdown",
      "source": [
        "***Questão 3***\n",
        "\n",
        "Crie um algoritmo em Python que calcule a área de um triângulo. Para um triângulo de base igual a 3 e altura igual a 4, qual o valor da área?\n",
        "\n",
        "FÓRMULA: área do triângulo = (base * altura) / 2"
      ],
      "metadata": {
        "id": "pw_7_mfFND6Q"
      }
    },
    {
      "cell_type": "code",
      "source": [
        "# ENTRADA\n",
        "base = float(input(\"Informe o valor da base do triângulo: \"))\n",
        "altura = float(input(\"Informe o valor da altura do triângulo: \"))\n",
        "# PROCESSAMENTO\n",
        "area = (base * altura) / 2\n",
        "# SAÍDA\n",
        "print(area)"
      ],
      "metadata": {
        "colab": {
          "base_uri": "https://localhost:8080/"
        },
        "id": "BtcSEqZNNIeQ",
        "outputId": "523df024-f68f-4db2-efd8-5feab32a0343"
      },
      "execution_count": 38,
      "outputs": [
        {
          "output_type": "stream",
          "name": "stdout",
          "text": [
            "Informe o valor da base do triângulo: 3\n",
            "Informe o valor da altura do triângulo: 4\n",
            "6.0\n"
          ]
        }
      ]
    }
  ]
}