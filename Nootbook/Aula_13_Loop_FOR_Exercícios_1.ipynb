{
  "nbformat": 4,
  "nbformat_minor": 0,
  "metadata": {
    "colab": {
      "provenance": []
    },
    "kernelspec": {
      "name": "python3",
      "display_name": "Python 3"
    },
    "language_info": {
      "name": "python"
    }
  },
  "cells": [
    {
      "cell_type": "markdown",
      "source": [
        "### Exercício 1\n",
        "\n",
        "Mostre todos os números pares existentes entre 0 e 100."
      ],
      "metadata": {
        "id": "GCv1AiuEMC4z"
      }
    },
    {
      "cell_type": "code",
      "source": [
        "for i in range(2, 101, 2):\n",
        "  print(i)"
      ],
      "metadata": {
        "id": "Gi5rIMfP7NCi"
      },
      "execution_count": null,
      "outputs": []
    },
    {
      "cell_type": "code",
      "source": [
        "for i in range(101):\n",
        "  if i % 2 == 0:\n",
        "    print(i)"
      ],
      "metadata": {
        "id": "61azEMZi74HY"
      },
      "execution_count": null,
      "outputs": []
    },
    {
      "cell_type": "markdown",
      "source": [
        "### Exercício 2\n",
        "\n",
        "Mostre todos os números divisíveis por 7 entre 0 e 100"
      ],
      "metadata": {
        "id": "FeR0RF3_MMdo"
      }
    },
    {
      "cell_type": "code",
      "source": [
        "for i in range(7, 101, 7):\n",
        "  print(i)"
      ],
      "metadata": {
        "colab": {
          "base_uri": "https://localhost:8080/"
        },
        "id": "pOd7dP8K8Xo6",
        "outputId": "5f3c56ce-bebe-4290-d37f-d3a7010b82e4"
      },
      "execution_count": 7,
      "outputs": [
        {
          "output_type": "stream",
          "name": "stdout",
          "text": [
            "7\n",
            "14\n",
            "21\n",
            "28\n",
            "35\n",
            "42\n",
            "49\n",
            "56\n",
            "63\n",
            "70\n",
            "77\n",
            "84\n",
            "91\n",
            "98\n"
          ]
        }
      ]
    },
    {
      "cell_type": "code",
      "source": [
        "for i in range(0, 101):\n",
        "  if i % 7 == 0 and i != 0:\n",
        "    print(i)"
      ],
      "metadata": {
        "colab": {
          "base_uri": "https://localhost:8080/"
        },
        "id": "M7pA0ubL8iaq",
        "outputId": "e734256a-23a9-42a2-e21d-acae3d588a12"
      },
      "execution_count": 6,
      "outputs": [
        {
          "output_type": "stream",
          "name": "stdout",
          "text": [
            "7\n",
            "14\n",
            "21\n",
            "28\n",
            "35\n",
            "42\n",
            "49\n",
            "56\n",
            "63\n",
            "70\n",
            "77\n",
            "84\n",
            "91\n",
            "98\n"
          ]
        }
      ]
    },
    {
      "cell_type": "markdown",
      "source": [
        "### Exercício 3\n",
        "\n",
        "Conte de 0 a 1000 saltando de 500 em 500."
      ],
      "metadata": {
        "id": "GrwNPZ44Maeq"
      }
    },
    {
      "cell_type": "code",
      "source": [
        "for i in range(0, 1001, 500):\n",
        "  print(i)"
      ],
      "metadata": {
        "colab": {
          "base_uri": "https://localhost:8080/"
        },
        "id": "4khlBmKl8-Vy",
        "outputId": "42606559-9316-4142-f229-65af1c0c25f4"
      },
      "execution_count": 9,
      "outputs": [
        {
          "output_type": "stream",
          "name": "stdout",
          "text": [
            "0\n",
            "500\n",
            "1000\n"
          ]
        }
      ]
    },
    {
      "cell_type": "markdown",
      "source": [
        "### Exercício 4\n",
        "\n",
        "Mostre os números divisíveis por 10 existentes entre 0 e 100 em ordem decrescente."
      ],
      "metadata": {
        "id": "2WddsCvGSgmR"
      }
    },
    {
      "cell_type": "code",
      "source": [
        "for i in range(100, 0, -10):\n",
        "  print(i)"
      ],
      "metadata": {
        "colab": {
          "base_uri": "https://localhost:8080/"
        },
        "id": "x7momubI9O4s",
        "outputId": "e4893f5c-11b3-4cf1-faa6-e1cbbd1cb26c"
      },
      "execution_count": 12,
      "outputs": [
        {
          "output_type": "stream",
          "name": "stdout",
          "text": [
            "100\n",
            "90\n",
            "80\n",
            "70\n",
            "60\n",
            "50\n",
            "40\n",
            "30\n",
            "20\n",
            "10\n"
          ]
        }
      ]
    },
    {
      "cell_type": "markdown",
      "source": [
        "### Exercício 5\n",
        "\n",
        "Mostre a soma de todos os números pares entre 0 e 100."
      ],
      "metadata": {
        "id": "n7xiM7HcVqoh"
      }
    },
    {
      "cell_type": "code",
      "source": [
        "soma = 0\n",
        "for num in range(0, 101, 2):\n",
        "  soma = soma + num\n",
        "  print(\"Número: \", num, \" Soma: \", soma)"
      ],
      "metadata": {
        "id": "LSe9ybjvVkPr",
        "colab": {
          "base_uri": "https://localhost:8080/"
        },
        "outputId": "d0f9604c-2c29-47bb-a106-fc7b4fc8cea6"
      },
      "execution_count": 16,
      "outputs": [
        {
          "output_type": "stream",
          "name": "stdout",
          "text": [
            "Número:  0  Soma:  0\n",
            "Número:  2  Soma:  2\n",
            "Número:  4  Soma:  6\n",
            "Número:  6  Soma:  12\n",
            "Número:  8  Soma:  20\n",
            "Número:  10  Soma:  30\n",
            "Número:  12  Soma:  42\n",
            "Número:  14  Soma:  56\n",
            "Número:  16  Soma:  72\n",
            "Número:  18  Soma:  90\n",
            "Número:  20  Soma:  110\n",
            "Número:  22  Soma:  132\n",
            "Número:  24  Soma:  156\n",
            "Número:  26  Soma:  182\n",
            "Número:  28  Soma:  210\n",
            "Número:  30  Soma:  240\n",
            "Número:  32  Soma:  272\n",
            "Número:  34  Soma:  306\n",
            "Número:  36  Soma:  342\n",
            "Número:  38  Soma:  380\n",
            "Número:  40  Soma:  420\n",
            "Número:  42  Soma:  462\n",
            "Número:  44  Soma:  506\n",
            "Número:  46  Soma:  552\n",
            "Número:  48  Soma:  600\n",
            "Número:  50  Soma:  650\n",
            "Número:  52  Soma:  702\n",
            "Número:  54  Soma:  756\n",
            "Número:  56  Soma:  812\n",
            "Número:  58  Soma:  870\n",
            "Número:  60  Soma:  930\n",
            "Número:  62  Soma:  992\n",
            "Número:  64  Soma:  1056\n",
            "Número:  66  Soma:  1122\n",
            "Número:  68  Soma:  1190\n",
            "Número:  70  Soma:  1260\n",
            "Número:  72  Soma:  1332\n",
            "Número:  74  Soma:  1406\n",
            "Número:  76  Soma:  1482\n",
            "Número:  78  Soma:  1560\n",
            "Número:  80  Soma:  1640\n",
            "Número:  82  Soma:  1722\n",
            "Número:  84  Soma:  1806\n",
            "Número:  86  Soma:  1892\n",
            "Número:  88  Soma:  1980\n",
            "Número:  90  Soma:  2070\n",
            "Número:  92  Soma:  2162\n",
            "Número:  94  Soma:  2256\n",
            "Número:  96  Soma:  2352\n",
            "Número:  98  Soma:  2450\n",
            "Número:  100  Soma:  2550\n"
          ]
        }
      ]
    }
  ]
}