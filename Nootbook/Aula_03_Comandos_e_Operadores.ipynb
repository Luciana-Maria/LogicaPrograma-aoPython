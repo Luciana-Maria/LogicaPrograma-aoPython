{
  "nbformat": 4,
  "nbformat_minor": 0,
  "metadata": {
    "colab": {
      "provenance": []
    },
    "kernelspec": {
      "name": "python3",
      "display_name": "Python 3"
    },
    "language_info": {
      "name": "python"
    }
  },
  "cells": [
    {
      "cell_type": "markdown",
      "source": [
        "PYTHON\n",
        "\n",
        "Linguagem simples, objetiva e clara.\n",
        "É como escrever uma carta em inglês para o processador."
      ],
      "metadata": {
        "id": "77tfEbGeyH7o"
      }
    },
    {
      "cell_type": "markdown",
      "source": [
        "ETAPAS\n",
        "\n",
        "- Entrada\n",
        "- Processamento\n",
        "- Saída"
      ],
      "metadata": {
        "id": "1jnV6lB02l2l"
      }
    },
    {
      "cell_type": "markdown",
      "source": [
        "**Comando de saída**"
      ],
      "metadata": {
        "id": "UF9F4kI_2S0H"
      }
    },
    {
      "cell_type": "code",
      "source": [
        "print(\"Olá, mundo!\")"
      ],
      "metadata": {
        "colab": {
          "base_uri": "https://localhost:8080/"
        },
        "id": "ToDxAq-8yQG_",
        "outputId": "ec8e79aa-f2dd-4701-f797-ee6ead785ede"
      },
      "execution_count": 1,
      "outputs": [
        {
          "output_type": "stream",
          "name": "stdout",
          "text": [
            "Olá, mundo!\n"
          ]
        }
      ]
    },
    {
      "cell_type": "markdown",
      "source": [
        "**Comando de entrada**"
      ],
      "metadata": {
        "id": "NVd2D1ZC2_P-"
      }
    },
    {
      "cell_type": "code",
      "source": [
        "input(\"Digite seu nome: \")"
      ],
      "metadata": {
        "colab": {
          "base_uri": "https://localhost:8080/",
          "height": 53
        },
        "id": "COCjKDJw24xH",
        "outputId": "de932cee-5efb-440c-c054-af606d9350e5"
      },
      "execution_count": 2,
      "outputs": [
        {
          "name": "stdout",
          "output_type": "stream",
          "text": [
            "Digite seu nome: Danielle\n"
          ]
        },
        {
          "output_type": "execute_result",
          "data": {
            "text/plain": [
              "'Danielle'"
            ],
            "application/vnd.google.colaboratory.intrinsic+json": {
              "type": "string"
            }
          },
          "metadata": {},
          "execution_count": 2
        }
      ]
    },
    {
      "cell_type": "code",
      "source": [
        "input()"
      ],
      "metadata": {
        "colab": {
          "base_uri": "https://localhost:8080/",
          "height": 53
        },
        "id": "Frdkr06t3ck3",
        "outputId": "9163cddc-39be-44af-c5ca-71b91221c7cf"
      },
      "execution_count": 3,
      "outputs": [
        {
          "name": "stdout",
          "output_type": "stream",
          "text": [
            "girafa\n"
          ]
        },
        {
          "output_type": "execute_result",
          "data": {
            "text/plain": [
              "'girafa'"
            ],
            "application/vnd.google.colaboratory.intrinsic+json": {
              "type": "string"
            }
          },
          "metadata": {},
          "execution_count": 3
        }
      ]
    },
    {
      "cell_type": "markdown",
      "source": [
        "***Exemplo entrada e saída***"
      ],
      "metadata": {
        "id": "KjEj6liO38Uu"
      }
    },
    {
      "cell_type": "code",
      "source": [
        "nome = input(\"Digite seu nome: \")\n",
        "print(\"Olá, \", nome)"
      ],
      "metadata": {
        "colab": {
          "base_uri": "https://localhost:8080/"
        },
        "id": "zU-oYYba4FLG",
        "outputId": "bce3ac42-ed3d-4d7b-b274-dcd7959334aa"
      },
      "execution_count": 4,
      "outputs": [
        {
          "output_type": "stream",
          "name": "stdout",
          "text": [
            "Digite seu nome: Danielle\n",
            "Olá,  Danielle\n"
          ]
        }
      ]
    },
    {
      "cell_type": "markdown",
      "source": [
        "TIPOS DE VARIÁVEIS DO PYTHON\n",
        "\n",
        "- Numéricas\n",
        "  - Números inteiros: **int**\n",
        "  - Números reais: **float**\n",
        "- Alfanuméricas: **str**\n",
        "- Lógicas/Booleanas: **bool**"
      ],
      "metadata": {
        "id": "UhnwpJVj6ZcX"
      }
    },
    {
      "cell_type": "code",
      "source": [
        "idade = 27\n",
        "type(idade)"
      ],
      "metadata": {
        "colab": {
          "base_uri": "https://localhost:8080/"
        },
        "id": "Tc3zg0pS6fAg",
        "outputId": "94be216c-b6d3-44b5-acfb-3ff6f01c59b5"
      },
      "execution_count": 5,
      "outputs": [
        {
          "output_type": "execute_result",
          "data": {
            "text/plain": [
              "int"
            ]
          },
          "metadata": {},
          "execution_count": 5
        }
      ]
    },
    {
      "cell_type": "code",
      "source": [
        "salario = 15000.00\n",
        "type(salario)"
      ],
      "metadata": {
        "colab": {
          "base_uri": "https://localhost:8080/"
        },
        "id": "7az6LTlkC_Im",
        "outputId": "19b5ad50-0c4f-4d8e-ab28-89ec3f714a3d"
      },
      "execution_count": 6,
      "outputs": [
        {
          "output_type": "execute_result",
          "data": {
            "text/plain": [
              "float"
            ]
          },
          "metadata": {},
          "execution_count": 6
        }
      ]
    },
    {
      "cell_type": "code",
      "source": [
        "nome = 'Danielle'\n",
        "type(nome)"
      ],
      "metadata": {
        "colab": {
          "base_uri": "https://localhost:8080/"
        },
        "id": "VZF-rpwoDzoW",
        "outputId": "4861b3b8-38f3-49ee-df21-009fe654ec73"
      },
      "execution_count": 7,
      "outputs": [
        {
          "output_type": "execute_result",
          "data": {
            "text/plain": [
              "str"
            ]
          },
          "metadata": {},
          "execution_count": 7
        }
      ]
    },
    {
      "cell_type": "code",
      "source": [
        "aprovado = True\n",
        "type(aprovado)"
      ],
      "metadata": {
        "colab": {
          "base_uri": "https://localhost:8080/"
        },
        "id": "fLcd3Rj_D3lj",
        "outputId": "94c0d639-aa64-4b37-8f7a-f0ea28d8cb51"
      },
      "execution_count": 8,
      "outputs": [
        {
          "output_type": "execute_result",
          "data": {
            "text/plain": [
              "bool"
            ]
          },
          "metadata": {},
          "execution_count": 8
        }
      ]
    },
    {
      "cell_type": "markdown",
      "source": [
        "OPERAÇÕES MATEMÁTICAS"
      ],
      "metadata": {
        "id": "pPFIY914I-OE"
      }
    },
    {
      "cell_type": "markdown",
      "source": [
        "**Adição**"
      ],
      "metadata": {
        "id": "c7Qk1Y7-JBeN"
      }
    },
    {
      "cell_type": "code",
      "source": [
        "2 + 2"
      ],
      "metadata": {
        "colab": {
          "base_uri": "https://localhost:8080/"
        },
        "id": "JGiGNukiIu4F",
        "outputId": "1a5d022d-9c24-460c-f7bf-6bec4b4cc746"
      },
      "execution_count": 9,
      "outputs": [
        {
          "output_type": "execute_result",
          "data": {
            "text/plain": [
              "4"
            ]
          },
          "metadata": {},
          "execution_count": 9
        }
      ]
    },
    {
      "cell_type": "markdown",
      "source": [
        "**Subtração**"
      ],
      "metadata": {
        "id": "L5t-eh1fJF01"
      }
    },
    {
      "cell_type": "code",
      "source": [
        "7 - 4"
      ],
      "metadata": {
        "colab": {
          "base_uri": "https://localhost:8080/"
        },
        "id": "Mzok1thJJFU1",
        "outputId": "304108f7-f35f-4b35-874a-f257ca54d296"
      },
      "execution_count": 10,
      "outputs": [
        {
          "output_type": "execute_result",
          "data": {
            "text/plain": [
              "3"
            ]
          },
          "metadata": {},
          "execution_count": 10
        }
      ]
    },
    {
      "cell_type": "markdown",
      "source": [
        "**Multiplicação**"
      ],
      "metadata": {
        "id": "cn3FXGN5JLfE"
      }
    },
    {
      "cell_type": "code",
      "source": [
        "3 * 5"
      ],
      "metadata": {
        "colab": {
          "base_uri": "https://localhost:8080/"
        },
        "id": "r7gKOtfsJEKS",
        "outputId": "426d0cac-2c51-4cbd-a5c7-7540d7a7b057"
      },
      "execution_count": 11,
      "outputs": [
        {
          "output_type": "execute_result",
          "data": {
            "text/plain": [
              "15"
            ]
          },
          "metadata": {},
          "execution_count": 11
        }
      ]
    },
    {
      "cell_type": "markdown",
      "source": [
        "**Exponenciação**"
      ],
      "metadata": {
        "id": "zFr7V5lbJXb0"
      }
    },
    {
      "cell_type": "code",
      "source": [
        "3 ** 5"
      ],
      "metadata": {
        "colab": {
          "base_uri": "https://localhost:8080/"
        },
        "id": "EWv_LP39JOpS",
        "outputId": "a501a719-d8d1-4a39-b8bd-a7db1b682658"
      },
      "execution_count": 12,
      "outputs": [
        {
          "output_type": "execute_result",
          "data": {
            "text/plain": [
              "243"
            ]
          },
          "metadata": {},
          "execution_count": 12
        }
      ]
    },
    {
      "cell_type": "markdown",
      "source": [
        "**Divisão real (quociente)**"
      ],
      "metadata": {
        "id": "4QxRpCJ4Je01"
      }
    },
    {
      "cell_type": "code",
      "source": [
        "21 / 2"
      ],
      "metadata": {
        "colab": {
          "base_uri": "https://localhost:8080/"
        },
        "id": "_i_2zlTOJeBV",
        "outputId": "60618e05-ae28-41d0-97d1-3850251e5545"
      },
      "execution_count": 13,
      "outputs": [
        {
          "output_type": "execute_result",
          "data": {
            "text/plain": [
              "10.5"
            ]
          },
          "metadata": {},
          "execution_count": 13
        }
      ]
    },
    {
      "cell_type": "markdown",
      "source": [
        "**Divisão inteira (quociente)**"
      ],
      "metadata": {
        "id": "Uj3R_FNHJlCF"
      }
    },
    {
      "cell_type": "code",
      "source": [
        "21 // 2"
      ],
      "metadata": {
        "colab": {
          "base_uri": "https://localhost:8080/"
        },
        "id": "UmvoDnbbJaly",
        "outputId": "3d24e979-1146-4c0d-f8ec-fc8b512e05fc"
      },
      "execution_count": 14,
      "outputs": [
        {
          "output_type": "execute_result",
          "data": {
            "text/plain": [
              "10"
            ]
          },
          "metadata": {},
          "execution_count": 14
        }
      ]
    },
    {
      "cell_type": "markdown",
      "source": [
        "**Resto da divisão inteira**"
      ],
      "metadata": {
        "id": "yenzR7ukJsKM"
      }
    },
    {
      "cell_type": "code",
      "source": [
        "21 % 2"
      ],
      "metadata": {
        "colab": {
          "base_uri": "https://localhost:8080/"
        },
        "id": "Mm5LDMIgJqN7",
        "outputId": "50768e38-6059-4dde-f524-8ae9636dd090"
      },
      "execution_count": 15,
      "outputs": [
        {
          "output_type": "execute_result",
          "data": {
            "text/plain": [
              "1"
            ]
          },
          "metadata": {},
          "execution_count": 15
        }
      ]
    },
    {
      "cell_type": "markdown",
      "source": [
        "**Percentagem**"
      ],
      "metadata": {
        "id": "dCCCWDoxJ6uU"
      }
    },
    {
      "cell_type": "code",
      "source": [
        "100 * 0.15"
      ],
      "metadata": {
        "colab": {
          "base_uri": "https://localhost:8080/"
        },
        "id": "kYFTXwp-Jxxl",
        "outputId": "67523883-b6ff-4d21-a33b-e4a0bba88b8b"
      },
      "execution_count": 16,
      "outputs": [
        {
          "output_type": "execute_result",
          "data": {
            "text/plain": [
              "15.0"
            ]
          },
          "metadata": {},
          "execution_count": 16
        }
      ]
    },
    {
      "cell_type": "code",
      "source": [
        "100 * (15 / 100)"
      ],
      "metadata": {
        "colab": {
          "base_uri": "https://localhost:8080/"
        },
        "id": "AEO02DhSKOQT",
        "outputId": "a1d43a4a-51de-4886-8215-9334e0c48f33"
      },
      "execution_count": 17,
      "outputs": [
        {
          "output_type": "execute_result",
          "data": {
            "text/plain": [
              "15.0"
            ]
          },
          "metadata": {},
          "execution_count": 17
        }
      ]
    },
    {
      "cell_type": "markdown",
      "source": [
        "**Raíz quadrada**"
      ],
      "metadata": {
        "id": "_kCONA3bKo_V"
      }
    },
    {
      "cell_type": "code",
      "source": [
        "import math\n",
        "math.sqrt(9)"
      ],
      "metadata": {
        "colab": {
          "base_uri": "https://localhost:8080/"
        },
        "id": "1GkP7pLDKSfB",
        "outputId": "dbbd3d36-dfb1-401f-cb28-9122f81fb55e"
      },
      "execution_count": 18,
      "outputs": [
        {
          "output_type": "execute_result",
          "data": {
            "text/plain": [
              "3.0"
            ]
          },
          "metadata": {},
          "execution_count": 18
        }
      ]
    },
    {
      "cell_type": "code",
      "source": [
        "9 ** (1/2)"
      ],
      "metadata": {
        "colab": {
          "base_uri": "https://localhost:8080/"
        },
        "id": "Ovvb8OtmK-I7",
        "outputId": "94fcafba-cdab-4502-8739-070ee28cb0dd"
      },
      "execution_count": 19,
      "outputs": [
        {
          "output_type": "execute_result",
          "data": {
            "text/plain": [
              "3.0"
            ]
          },
          "metadata": {},
          "execution_count": 19
        }
      ]
    },
    {
      "cell_type": "markdown",
      "source": [
        "**Raíz cúbica**"
      ],
      "metadata": {
        "id": "aogCw5XWLnMO"
      }
    },
    {
      "cell_type": "code",
      "source": [
        "27 ** (1/3)"
      ],
      "metadata": {
        "colab": {
          "base_uri": "https://localhost:8080/"
        },
        "id": "3FxA_JQ6LvqD",
        "outputId": "60065c41-8a1e-40a2-faae-b2aac93c67cb"
      },
      "execution_count": 20,
      "outputs": [
        {
          "output_type": "execute_result",
          "data": {
            "text/plain": [
              "3.0"
            ]
          },
          "metadata": {},
          "execution_count": 20
        }
      ]
    },
    {
      "cell_type": "markdown",
      "source": [
        "**Raíz quarta**"
      ],
      "metadata": {
        "id": "PR_mGUgYL3qs"
      }
    },
    {
      "cell_type": "code",
      "source": [
        "16 ** (1/4)"
      ],
      "metadata": {
        "colab": {
          "base_uri": "https://localhost:8080/"
        },
        "id": "9S330nUkL5YG",
        "outputId": "a907dea9-08b2-4795-e044-15e25ea8e6e2"
      },
      "execution_count": 21,
      "outputs": [
        {
          "output_type": "execute_result",
          "data": {
            "text/plain": [
              "2.0"
            ]
          },
          "metadata": {},
          "execution_count": 21
        }
      ]
    },
    {
      "cell_type": "markdown",
      "source": [
        "OPERADORES RELACIONAIS"
      ],
      "metadata": {
        "id": "YDALGClSN4EG"
      }
    },
    {
      "cell_type": "code",
      "source": [
        "a = 10\n",
        "b = 10\n",
        "\n",
        "print(a)\n",
        "print(b)"
      ],
      "metadata": {
        "colab": {
          "base_uri": "https://localhost:8080/"
        },
        "id": "OTtXrO8xN3WG",
        "outputId": "5a779d4d-bb70-4cc8-ba5e-d1df2b52c3c6"
      },
      "execution_count": 22,
      "outputs": [
        {
          "output_type": "stream",
          "name": "stdout",
          "text": [
            "10\n",
            "10\n"
          ]
        }
      ]
    },
    {
      "cell_type": "code",
      "source": [
        "a == b"
      ],
      "metadata": {
        "colab": {
          "base_uri": "https://localhost:8080/"
        },
        "id": "Q844hsaAOEL1",
        "outputId": "dff11e91-a91e-406b-80c0-b90676c5411a"
      },
      "execution_count": 23,
      "outputs": [
        {
          "output_type": "execute_result",
          "data": {
            "text/plain": [
              "True"
            ]
          },
          "metadata": {},
          "execution_count": 23
        }
      ]
    },
    {
      "cell_type": "code",
      "source": [
        "a != b"
      ],
      "metadata": {
        "colab": {
          "base_uri": "https://localhost:8080/"
        },
        "id": "ua6NGMykOYOw",
        "outputId": "b9ce6612-817f-4d9e-e9a7-25caea5fae13"
      },
      "execution_count": 24,
      "outputs": [
        {
          "output_type": "execute_result",
          "data": {
            "text/plain": [
              "False"
            ]
          },
          "metadata": {},
          "execution_count": 24
        }
      ]
    },
    {
      "cell_type": "code",
      "source": [
        "a > b"
      ],
      "metadata": {
        "colab": {
          "base_uri": "https://localhost:8080/"
        },
        "id": "bSqLa50ROfyO",
        "outputId": "c16536aa-d914-4a82-f19f-59ff69a9835e"
      },
      "execution_count": 25,
      "outputs": [
        {
          "output_type": "execute_result",
          "data": {
            "text/plain": [
              "False"
            ]
          },
          "metadata": {},
          "execution_count": 25
        }
      ]
    },
    {
      "cell_type": "code",
      "source": [
        "a < b"
      ],
      "metadata": {
        "colab": {
          "base_uri": "https://localhost:8080/"
        },
        "id": "AtWp91jTOKLh",
        "outputId": "4abb3dc3-62b6-4a52-8211-3ac26900f3db"
      },
      "execution_count": 26,
      "outputs": [
        {
          "output_type": "execute_result",
          "data": {
            "text/plain": [
              "False"
            ]
          },
          "metadata": {},
          "execution_count": 26
        }
      ]
    },
    {
      "cell_type": "code",
      "source": [
        "a >= b"
      ],
      "metadata": {
        "colab": {
          "base_uri": "https://localhost:8080/"
        },
        "id": "zkr-pk8dOLER",
        "outputId": "35eb0035-ed14-4661-86cf-a51c98b3ac74"
      },
      "execution_count": 27,
      "outputs": [
        {
          "output_type": "execute_result",
          "data": {
            "text/plain": [
              "True"
            ]
          },
          "metadata": {},
          "execution_count": 27
        }
      ]
    },
    {
      "cell_type": "code",
      "source": [
        "a <= b"
      ],
      "metadata": {
        "colab": {
          "base_uri": "https://localhost:8080/"
        },
        "id": "7r3KuAiuOq_X",
        "outputId": "bc53907c-b837-427c-c69b-e1c12e3286ea"
      },
      "execution_count": 28,
      "outputs": [
        {
          "output_type": "execute_result",
          "data": {
            "text/plain": [
              "True"
            ]
          },
          "metadata": {},
          "execution_count": 28
        }
      ]
    },
    {
      "cell_type": "markdown",
      "source": [
        "**Incrementação e Decrementação**"
      ],
      "metadata": {
        "id": "7sT4YTgPQQeu"
      }
    },
    {
      "cell_type": "code",
      "source": [
        "a = 10\n",
        "print(a)"
      ],
      "metadata": {
        "colab": {
          "base_uri": "https://localhost:8080/"
        },
        "id": "lXUQeLTjQTV6",
        "outputId": "e049fa29-2671-4b16-f991-320ba0b8d72a"
      },
      "execution_count": 29,
      "outputs": [
        {
          "output_type": "stream",
          "name": "stdout",
          "text": [
            "10\n"
          ]
        }
      ]
    },
    {
      "cell_type": "code",
      "source": [
        "a += 1\n",
        "print(a)"
      ],
      "metadata": {
        "colab": {
          "base_uri": "https://localhost:8080/"
        },
        "id": "iVR5agmmQWIg",
        "outputId": "e10c69eb-29d8-40f5-ac01-436783b6af71"
      },
      "execution_count": 30,
      "outputs": [
        {
          "output_type": "stream",
          "name": "stdout",
          "text": [
            "11\n"
          ]
        }
      ]
    },
    {
      "cell_type": "code",
      "source": [
        "a += 2\n",
        "print(a)"
      ],
      "metadata": {
        "colab": {
          "base_uri": "https://localhost:8080/"
        },
        "id": "kHt4jyldQavA",
        "outputId": "650644ac-dd00-4154-9500-52c367d10888"
      },
      "execution_count": 31,
      "outputs": [
        {
          "output_type": "stream",
          "name": "stdout",
          "text": [
            "13\n"
          ]
        }
      ]
    },
    {
      "cell_type": "code",
      "source": [
        "b = 10\n",
        "print(b)"
      ],
      "metadata": {
        "colab": {
          "base_uri": "https://localhost:8080/"
        },
        "id": "oMUk15-AQ89G",
        "outputId": "48823241-eb83-43d6-fb23-f78c20c98cb9"
      },
      "execution_count": 32,
      "outputs": [
        {
          "output_type": "stream",
          "name": "stdout",
          "text": [
            "10\n"
          ]
        }
      ]
    },
    {
      "cell_type": "code",
      "source": [
        "b -= 1\n",
        "print(b)"
      ],
      "metadata": {
        "colab": {
          "base_uri": "https://localhost:8080/"
        },
        "id": "Q65lokK4Q-tZ",
        "outputId": "0e135f88-ca9f-4450-c8e5-0a46b73ed5d2"
      },
      "execution_count": 33,
      "outputs": [
        {
          "output_type": "stream",
          "name": "stdout",
          "text": [
            "9\n"
          ]
        }
      ]
    },
    {
      "cell_type": "code",
      "source": [
        "b -= 5\n",
        "print(b)"
      ],
      "metadata": {
        "colab": {
          "base_uri": "https://localhost:8080/"
        },
        "id": "N5i7kiK7RBYJ",
        "outputId": "117bf913-a5f0-47cb-c35e-90959f953b2e"
      },
      "execution_count": 34,
      "outputs": [
        {
          "output_type": "stream",
          "name": "stdout",
          "text": [
            "4\n"
          ]
        }
      ]
    }
  ]
}