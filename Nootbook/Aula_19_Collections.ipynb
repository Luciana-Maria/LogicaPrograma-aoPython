{
  "nbformat": 4,
  "nbformat_minor": 0,
  "metadata": {
    "colab": {
      "provenance": []
    },
    "kernelspec": {
      "name": "python3",
      "display_name": "Python 3"
    },
    "language_info": {
      "name": "python"
    }
  },
  "cells": [
    {
      "cell_type": "markdown",
      "source": [
        "## Collections (Estruturas de Dados)\n",
        "\n",
        "- Listas [  ] : índice - modificáveis\n",
        "- Tuplas ( ): índice - não modificáveis\n",
        "- Dicionários { } : par chave-valor"
      ],
      "metadata": {
        "id": "0hft6vTDH88E"
      }
    },
    {
      "cell_type": "markdown",
      "source": [
        "#### Exemplo 1\n",
        "\n",
        "Criando um dicionário de tuplas."
      ],
      "metadata": {
        "id": "px7qPvi3HVoj"
      }
    },
    {
      "cell_type": "code",
      "execution_count": 5,
      "metadata": {
        "colab": {
          "base_uri": "https://localhost:8080/"
        },
        "id": "sMSQwivBHOxB",
        "outputId": "abe29135-9073-4118-80b6-ce4d5ff1085e"
      },
      "outputs": [
        {
          "output_type": "stream",
          "name": "stdout",
          "text": [
            "Digite o nome da chave: Chave 1\n",
            "Digite o valor do elemento: 1\n",
            "Digite o valor do elemento: 2\n",
            "Digite o valor do elemento: 3\n",
            "Digite o valor do elemento: 4\n",
            "Digite o nome da chave: Chave 2\n",
            "Digite o valor do elemento: 5\n",
            "Digite o valor do elemento: 6\n",
            "Digite o valor do elemento: 7\n",
            "Digite o valor do elemento: 8\n",
            "Digite o nome da chave: Chave 3\n",
            "Digite o valor do elemento: 9\n",
            "Digite o valor do elemento: 10\n",
            "Digite o valor do elemento: 11\n",
            "Digite o valor do elemento: 12\n",
            "{'Chave 1': [1, 2, 3, 4], 'Chave 2': [5, 6, 7, 8], 'Chave 3': [9, 10, 11, 12]}\n"
          ]
        }
      ],
      "source": [
        "# Cria um dicionário vazio\n",
        "dicionario = {}\n",
        "# Cria laço de repetição para adicionar as chaves\n",
        "for i in range(3):\n",
        "  # Pede o nome da chave para o usuário\n",
        "  chave = input(\"Digite o nome da chave: \")\n",
        "  # Cria uma lista vazia em cada repetição\n",
        "  lista = []\n",
        "  # Cria outro laço de repetição para adicionar os elementos em cada lista\n",
        "  for i in range(4):\n",
        "    # Pede o valor do elemento para o usuário\n",
        "    valor = int(input(\"Digite o valor do elemento: \"))\n",
        "    # Acrescenta o elemento na lista\n",
        "    lista.append(valor)\n",
        "  # Adiciona um elemento no dicionário, sendo chave a chave e lista o valor\n",
        "  dicionario[chave] = lista\n",
        "# Mostra o dicionário\n",
        "print(dicionario)\n",
        "\n",
        "# { \"Chave 1\": [1, 2, 3, 4],\n",
        "#   \"Chave 2\": [5, 6, 7, 8],\n",
        "#   \"Chave 3\": [9, 10, 11, 12]  }"
      ]
    },
    {
      "cell_type": "markdown",
      "source": [
        "#### Exemplo 2\n",
        "\n",
        "Criando uma lista de dicionários"
      ],
      "metadata": {
        "id": "wYpoyK2zHVyM"
      }
    },
    {
      "cell_type": "code",
      "source": [
        "# [\n",
        "#   {\"Andrea\": 9.8}\n",
        "#   {\"Bianca\": 7.3}\n",
        "#   {\"Claudia\": 8.4}\n",
        "#   {\"Dalia\": 6.9}\n",
        "# ]\n",
        "\n",
        "# Inicializa uma lista vazia\n",
        "lista = []\n",
        "# Cria um laço de repetição\n",
        "for i in range(4):\n",
        "  # Cria um dicionário vazio\n",
        "  dicionario = {}\n",
        "  # Pede a chave para o usuário\n",
        "  chave = input(\"Digite a chave: \")\n",
        "  # Pede o valor para o usuário\n",
        "  valor = float(input(\"Digite o valor\"))\n",
        "  # Adiciona o elemento no dicionário\n",
        "  dicionario[chave] = valor\n",
        "  # Adiciona o dicionário na lista\n",
        "  lista.append(dicionario)\n",
        "print(lista)"
      ],
      "metadata": {
        "colab": {
          "base_uri": "https://localhost:8080/"
        },
        "id": "sPHwokHuHVH8",
        "outputId": "41ebab16-45c5-418c-d5c8-0e3429105182"
      },
      "execution_count": 15,
      "outputs": [
        {
          "output_type": "stream",
          "name": "stdout",
          "text": [
            "Digite a chave: Andrea\n",
            "Digite o valor9.8\n",
            "Digite a chave: Bianca\n",
            "Digite o valor7.3\n",
            "Digite a chave: Claudia\n",
            "Digite o valor8.4\n",
            "Digite a chave: Dalia\n",
            "Digite o valor6.9\n",
            "[{'Andrea': 9.8}, {'Bianca': 7.3}, {'Claudia': 8.4}, {'Dalia': 6.9}]\n"
          ]
        }
      ]
    },
    {
      "cell_type": "markdown",
      "source": [
        "#### Exemplo 3\n",
        "Cria uma lista de objetos"
      ],
      "metadata": {
        "id": "ZDyw-i_0HV6E"
      }
    },
    {
      "cell_type": "code",
      "source": [
        "# Inicializa a lista vazia\n",
        "lista = []\n",
        "# Cria um laço de repetição para cada elemento na lista (quantidade de dicionários)\n",
        "for i in range(4):\n",
        "  # Inicializa um dicionário vazio\n",
        "  dicionario = {}\n",
        "  # Cria um laço de repetição para cada elemento no dicionário\n",
        "  print(\"Informe os dados do aluno\")\n",
        "  for i in range(3):\n",
        "    # Recebe do usuário as chaves e valores\n",
        "    chave = input(\"Digite a chave: \")\n",
        "    valor = input(\"Digite o valor: \")\n",
        "    # Adiciona o elemento no dicionário\n",
        "    dicionario[chave] = valor\n",
        "  print(\"Aluno adicionado\")\n",
        "  # Adiciona o dicionário na lista\n",
        "  lista.append(dicionario)\n",
        "# Exibe a lista\n",
        "print(lista)\n",
        "\n",
        "# [\n",
        "#   {\"matricula\": \"001\", \"nome\": \"João\", \"curso\": \"Lógica de Programação\"}\n",
        "#   {\"matricula\": \"002\", \"nome\": \"Maria\", \"curso\": \"Programador Web\"}\n",
        "#   {\"matricula\": \"003\", \"nome\": \"José\", \"curso\": \"Programador de Sistemas\"}\n",
        "#   {\"matricula\": \"004\", \"nome\": \"Pedro\", \"curso\": \"Administrador de Redes\"}\n",
        "# ]"
      ],
      "metadata": {
        "colab": {
          "base_uri": "https://localhost:8080/"
        },
        "id": "rS0ZhjZaHVSd",
        "outputId": "13c917c0-ecd0-44f2-e9bf-005a2ba9d316"
      },
      "execution_count": 14,
      "outputs": [
        {
          "output_type": "stream",
          "name": "stdout",
          "text": [
            "Informe os dados do aluno\n",
            "Digite a chave: matricula\n",
            "Digite o valor: 001\n",
            "Digite a chave: nome\n",
            "Digite o valor: João\n",
            "Digite a chave: curso\n",
            "Digite o valor: Lógica de Programação\n",
            "Aluno adicionado\n",
            "Informe os dados do aluno\n",
            "Digite a chave: matricula\n",
            "Digite o valor: 002\n",
            "Digite a chave: nome\n",
            "Digite o valor: Maria\n",
            "Digite a chave: curso\n",
            "Digite o valor: Programador Web\n",
            "Aluno adicionado\n",
            "Informe os dados do aluno\n",
            "Digite a chave: matricula\n",
            "Digite o valor: 003\n",
            "Digite a chave: nome\n",
            "Digite o valor: José\n",
            "Digite a chave: curso\n",
            "Digite o valor: Programador de Sistemas\n",
            "Aluno adicionado\n",
            "Informe os dados do aluno\n",
            "Digite a chave: matricula\n",
            "Digite o valor: 004\n",
            "Digite a chave: nome\n",
            "Digite o valor: Pedro\n",
            "Digite a chave: curso\n",
            "Digite o valor: Administrador de Redes\n",
            "Aluno adicionado\n",
            "[{'matricula': '001', 'nome': 'João', 'curso': 'Lógica de Programação'}, {'matricula': '002', 'nome': 'Maria', 'curso': 'Programador Web'}, {'matricula': '003', 'nome': 'José', 'curso': 'Programador de Sistemas'}, {'matricula': '004', 'nome': 'Pedro', 'curso': 'Administrador de Redes'}]\n"
          ]
        }
      ]
    },
    {
      "cell_type": "code",
      "source": [],
      "metadata": {
        "id": "1M3qMyqjTSG-"
      },
      "execution_count": null,
      "outputs": []
    }
  ]
}