{
  "nbformat": 4,
  "nbformat_minor": 0,
  "metadata": {
    "colab": {
      "provenance": []
    },
    "kernelspec": {
      "name": "python3",
      "display_name": "Python 3"
    },
    "language_info": {
      "name": "python"
    }
  },
  "cells": [
    {
      "cell_type": "markdown",
      "source": [
        "### List Comprehension\n",
        "Forma de aplicar uma função a todos os elementos de uma lista."
      ],
      "metadata": {
        "id": "GPIm-YXPQrRL"
      }
    },
    {
      "cell_type": "code",
      "execution_count": 1,
      "metadata": {
        "colab": {
          "base_uri": "https://localhost:8080/"
        },
        "id": "B7SpYii7N3t_",
        "outputId": "6303ecdf-c3dc-498c-8758-ca209deb9dac"
      },
      "outputs": [
        {
          "output_type": "stream",
          "name": "stdout",
          "text": [
            "[10, 20, 30, 40]\n"
          ]
        }
      ],
      "source": [
        "numeros = [5, 10, 15, 20]\n",
        "\n",
        "dobros = [x*2 for x in numeros]\n",
        "\n",
        "print(dobros)"
      ]
    },
    {
      "cell_type": "code",
      "source": [
        "numeros = [1, 2, 3, 4, 5, 6, 7, 8, 9, 10]\n",
        "\n",
        "lista = [\"par\" if x % 2 == 0 else \"ímpar\" for x in numeros]\n",
        "\n",
        "print(lista)"
      ],
      "metadata": {
        "colab": {
          "base_uri": "https://localhost:8080/"
        },
        "id": "4GGaCpicPbNa",
        "outputId": "8f30c0cc-ce92-43b6-be4f-eb9da0667486"
      },
      "execution_count": 2,
      "outputs": [
        {
          "output_type": "stream",
          "name": "stdout",
          "text": [
            "['ímpar', 'par', 'ímpar', 'par', 'ímpar', 'par', 'ímpar', 'par', 'ímpar', 'par']\n"
          ]
        }
      ]
    },
    {
      "cell_type": "code",
      "source": [
        "# DESAFIO: utilize list comprehension para calcular o quadrado de cada número\n",
        "# em uma lista de N números informados pelo usuário"
      ],
      "metadata": {
        "id": "ooPlx5sPXNHU"
      },
      "execution_count": null,
      "outputs": []
    },
    {
      "cell_type": "markdown",
      "source": [
        "### Dicionários\n",
        "Par chave-valor, utilizado para criar estruturas de dados mais complexas, como objetos."
      ],
      "metadata": {
        "id": "ZhmlStRyR98y"
      }
    },
    {
      "cell_type": "code",
      "source": [
        "# Na lista a referência do elemento é o índice/index\n",
        "nomes = ['Ana', 'Bruno', 'Carla', 'Douglas', 'Elen', 'Fábio']\n",
        "salarios = [1000, 2000, 3000, 4000, 5000, 3000]"
      ],
      "metadata": {
        "id": "sbVQQQJ7R9rb"
      },
      "execution_count": null,
      "outputs": []
    },
    {
      "cell_type": "code",
      "source": [
        "# No dicionário a referência do elemento é a chave, i.e, o valor antes de \":\"\n",
        "funcionarios = {'Ana': 1000, 'Bruno': 2000, 'Carla': 3000,\n",
        "                'Douglas': 4000, 'Elen': 5000, 'Fábio': 3000}\n",
        "funcionarios"
      ],
      "metadata": {
        "colab": {
          "base_uri": "https://localhost:8080/"
        },
        "id": "2oBuYpLdTgpC",
        "outputId": "73e98347-6c6a-4ee4-a2ef-7b1f46fbef1c"
      },
      "execution_count": 4,
      "outputs": [
        {
          "output_type": "execute_result",
          "data": {
            "text/plain": [
              "{'Ana': 1000,\n",
              " 'Bruno': 2000,\n",
              " 'Carla': 3000,\n",
              " 'Douglas': 4000,\n",
              " 'Elen': 5000,\n",
              " 'Fábio': 3000}"
            ]
          },
          "metadata": {},
          "execution_count": 4
        }
      ]
    },
    {
      "cell_type": "code",
      "source": [
        "# Dá pra fazer um dicionário de listas:\n",
        "turmas = {'Turma A': ['Ana', 'Bruno'],\n",
        "          'Turma B': ['Carla', 'Douglas'],\n",
        "          'Turma C': ['Elen', 'Fábio']}\n",
        "turmas"
      ],
      "metadata": {
        "colab": {
          "base_uri": "https://localhost:8080/"
        },
        "id": "ua5uG4_dUvUU",
        "outputId": "2ea82a77-644f-4f95-c049-5611f78d80ac"
      },
      "execution_count": 5,
      "outputs": [
        {
          "output_type": "execute_result",
          "data": {
            "text/plain": [
              "{'Turma A': ['Ana', 'Bruno'],\n",
              " 'Turma B': ['Carla', 'Douglas'],\n",
              " 'Turma C': ['Elen', 'Fábio']}"
            ]
          },
          "metadata": {},
          "execution_count": 5
        }
      ]
    },
    {
      "cell_type": "code",
      "source": [
        "# Dá pra fazer uma lista de dicionários\n",
        "produtos = [\n",
        "    {\"codigo\": 123, \"nome\": \"Sabão em Pó\", \"preco\": 14.00},\n",
        "    {\"codigo\": 456, \"nome\": \"Palha de Aço\", \"preco\": 3.00},\n",
        "    {\"codigo\": 789, \"nome\": \"Desinfetante\", \"preco\": 5.50}\n",
        "]\n",
        "produtos"
      ],
      "metadata": {
        "colab": {
          "base_uri": "https://localhost:8080/"
        },
        "id": "gRYhgXBiWLwx",
        "outputId": "4254d4c9-d0fe-425e-b337-c83ed6a74033"
      },
      "execution_count": 7,
      "outputs": [
        {
          "output_type": "execute_result",
          "data": {
            "text/plain": [
              "[{'codigo': 123, 'nome': 'Sabão em Pó', 'preco': 14.0},\n",
              " {'codigo': 456, 'nome': 'Palha de Aço', 'preco': 3.0},\n",
              " {'codigo': 789, 'nome': 'Desinfetante', 'preco': 5.5}]"
            ]
          },
          "metadata": {},
          "execution_count": 7
        }
      ]
    },
    {
      "cell_type": "code",
      "source": [
        "# Inserindo um novo item no dicionário\n",
        "capitais = {\"Brasil\": \"Brasília\", \"Alemanha\": \"Berlim\", \"Japão\": \"Tóquio\"}\n",
        "capitais[\"Itália\"] = \"Roma\"\n",
        "\n",
        "capital_italia = capitais[\"Itália\"]\n",
        "print(capital_italia)"
      ],
      "metadata": {
        "colab": {
          "base_uri": "https://localhost:8080/"
        },
        "id": "DZwsv7TbVgGC",
        "outputId": "a591b4ce-1c85-4ed3-fdef-c58bd0965cf8"
      },
      "execution_count": 6,
      "outputs": [
        {
          "output_type": "stream",
          "name": "stdout",
          "text": [
            "Roma\n"
          ]
        }
      ]
    }
  ]
}