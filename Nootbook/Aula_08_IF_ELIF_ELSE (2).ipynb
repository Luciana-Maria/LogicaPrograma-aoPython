{
  "nbformat": 4,
  "nbformat_minor": 0,
  "metadata": {
    "colab": {
      "provenance": []
    },
    "kernelspec": {
      "name": "python3",
      "display_name": "Python 3"
    },
    "language_info": {
      "name": "python"
    }
  },
  "cells": [
    {
      "cell_type": "markdown",
      "source": [
        "### EXERCÍCIOS"
      ],
      "metadata": {
        "id": "lfIzCMirIn4g"
      }
    },
    {
      "cell_type": "markdown",
      "source": [
        "#### Exercício 1\n",
        "\n",
        "Calcular a média aritmética entre três notas de um aluno e dizer se ele foi:\n",
        "- Aprovado, caso a média seja maior ou igual a 7.0\n",
        "- Reprovado, caso a média seja menor do que 6.0.\n",
        "- Em recuperação, se não for nenhum dos casos, isto é, caso a média seja maior ou igual a 6.0 E menor que 7.0"
      ],
      "metadata": {
        "id": "PFtaeojMJsv6"
      }
    },
    {
      "cell_type": "code",
      "source": [
        "# ENTRADA\n",
        "nota1 = float(input(\"Digite a nota 1: \"))\n",
        "nota2 = float(input(\"Digite a nota 2: \"))\n",
        "nota3 = float(input(\"Digite a nota 3: \"))\n",
        "\n",
        "# PROCESSAMENTO\n",
        "media = ( nota1 + nota2 + nota3 ) / 3\n",
        "\n",
        "if media >= 7.0:\n",
        "  # SAÍDA\n",
        "  print(\"Aprovado\")\n",
        "elif media < 6.0:\n",
        "  # SAÍDA\n",
        "  print(\"Reprovado\")\n",
        "else:\n",
        "  # SAÍDA\n",
        "  print(\"Recuperação\")"
      ],
      "metadata": {
        "colab": {
          "base_uri": "https://localhost:8080/"
        },
        "id": "MU8fnbGpJt4-",
        "outputId": "fbf763df-c3a1-474a-b8a6-6073434d3784"
      },
      "execution_count": null,
      "outputs": [
        {
          "output_type": "stream",
          "name": "stdout",
          "text": [
            "Digite a nota 1: 6.2\n",
            "Digite a nota 2: 6.6\n",
            "Digite a nota 3: 6.2\n",
            "Recuperação\n"
          ]
        }
      ]
    },
    {
      "cell_type": "markdown",
      "source": [
        "### Exercício 2\n",
        "\n",
        "Receber dois números, X e Y, em seguida:\n",
        "- Multiplicar X por Y, caso sejam iguais\n",
        "- Somar X e Y, caso X seja maior\n",
        "- Subtrair X e Y, caso X seja menor"
      ],
      "metadata": {
        "id": "xmMKY4RNM6-_"
      }
    },
    {
      "cell_type": "code",
      "source": [
        "# ENTRADA\n",
        "x = float(input(\"Insira o primeiro número: \"))\n",
        "y = float(input(\"Insira o segundo número: \"))\n",
        "\n",
        "# PROCESSAMENTO\n",
        "if x == y:\n",
        "  # SAÍDA\n",
        "  print(x*y)\n",
        "elif x > y:\n",
        "  # SAÍDA\n",
        "  print(x+y)\n",
        "else:\n",
        "  # SAÍDA\n",
        "  print(x-y)"
      ],
      "metadata": {
        "id": "M0iFkDAkNPOp"
      },
      "execution_count": null,
      "outputs": []
    },
    {
      "cell_type": "markdown",
      "source": [
        "### Exercício 3\n",
        "\n",
        "Armazenar um número digitado pelo usuário e verificar se ele é divisível por 2, por 3, ou por 5 ou por 7. Caso não seja divisível por nenhum destes números, informe ao usuário que o número é primo.​"
      ],
      "metadata": {
        "id": "87VOGfuNgzeE"
      }
    },
    {
      "cell_type": "code",
      "source": [
        "# ENTRADA\n",
        "x = int(input(\"Digite um número: \"))\n",
        "\n",
        "if x % 2 == 0:\n",
        "  print(x, \"é divisível por 2\")\n",
        "elif x % 3 == 0:\n",
        "  print(x, \"é divisível por 3\")\n",
        "elif x % 5 == 0:\n",
        "  print(x, \"é divisível por 5\")\n",
        "elif x % 7 == 0:\n",
        "  print(x, \"é divisível por 7\")\n",
        "else:\n",
        "  print(x, \"é primo\")"
      ],
      "metadata": {
        "id": "lgKL0fFUg1n7",
        "colab": {
          "base_uri": "https://localhost:8080/"
        },
        "outputId": "b6adc11d-ba49-4a50-c9dc-a7e44285a26a"
      },
      "execution_count": null,
      "outputs": [
        {
          "output_type": "stream",
          "name": "stdout",
          "text": [
            "Digite um número: 17\n",
            "17 é primo\n"
          ]
        }
      ]
    },
    {
      "cell_type": "markdown",
      "source": [
        "### Exercício 4\n",
        "\n",
        "Modifique algoritmo da fórmula de Bhaskara para que atenda às seguintes condições:​\n",
        "\n",
        "- Se o delta for menor do que 0, emita a mensagem: \" *Esta equação não possui raízes reais, ou seja, suas raízes são números complexos* \" e encerre o programa.​\n",
        "- Se o delta for igual a zero, calcule X com a fórmula: ***- b / 2a***\n",
        "- Se o delta for maior do que zero,\n",
        "    - calcule X1 com a fórmula: ***- b - raiz(delta) / 2a***\n",
        "    - e calcule X2 com a fórmula: ***- b + raiz(delta) / 2a***"
      ],
      "metadata": {
        "id": "ETmWynxLivWi"
      }
    },
    {
      "cell_type": "code",
      "source": [
        "import math\n",
        "\n",
        "# ENTRADA\n",
        "a = float(input(\"Informe o termo A: \"))\n",
        "b = float(input(\"Informe o termo B: \"))\n",
        "c = float(input(\"Informe o termo C: \"))\n",
        "\n",
        "# PROCESSAMENTO\n",
        "delta = b**2 - 4*a*c\n",
        "# SAÍDA\n",
        "print(\"O delta é: \", delta)\n",
        "\n",
        "if delta < 0:\n",
        "  # SAÍDA\n",
        "  print(\"Esta equação não possui raízes reais, ou seja, suas raízes são números complexos.\")\n",
        "elif delta == 0:\n",
        "  # PROCESSAMENTO\n",
        "  x = - b / (2*a)\n",
        "  # SAÍDA\n",
        "  print(x)\n",
        "else:\n",
        "  # PROCESSAMENTO\n",
        "  x1 = (- b + math.sqrt(delta))/2*a\n",
        "  x2 = (- b - delta**0.5)/2*a\n",
        "  # SAÍDA\n",
        "  print(\"O valor de X1 é: \", x1)\n",
        "  print(\"O valor de X2 é: \", x2)\n",
        "\n",
        "# x² + 6x + 10 - delta < 0\n",
        "# x² + 4x + 4 - delta 0\n",
        "# x² - 3x + 2 - delta > 0"
      ],
      "metadata": {
        "id": "jGwETVNmixmb",
        "colab": {
          "base_uri": "https://localhost:8080/"
        },
        "outputId": "f1d5bd88-d7a6-4045-a234-941bb7806a54"
      },
      "execution_count": null,
      "outputs": [
        {
          "output_type": "stream",
          "name": "stdout",
          "text": [
            "Informe o termo A: 1\n",
            "Informe o termo B: -3\n",
            "Informe o termo C: 2\n",
            "O delta é:  1.0\n",
            "O valor de X1 é:  2.0\n",
            "O valor de X2 é:  1.0\n"
          ]
        }
      ]
    }
  ]
}