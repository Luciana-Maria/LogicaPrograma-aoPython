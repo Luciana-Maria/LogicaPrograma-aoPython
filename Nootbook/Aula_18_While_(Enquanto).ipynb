{
  "nbformat": 4,
  "nbformat_minor": 0,
  "metadata": {
    "colab": {
      "provenance": []
    },
    "kernelspec": {
      "name": "python3",
      "display_name": "Python 3"
    },
    "language_info": {
      "name": "python"
    }
  },
  "cells": [
    {
      "cell_type": "markdown",
      "source": [
        "### Exercício 1\n",
        "\n",
        "Receba do usuário um número N qualquer e utilize o laço while para receber N nomes de países e armazenar em uma lista."
      ],
      "metadata": {
        "id": "mau9DoXP4TAQ"
      }
    },
    {
      "cell_type": "code",
      "source": [
        "# Número de países\n",
        "n = int(input(\"Digite o número de países: \"))\n",
        "# Inicializa lista vazia\n",
        "lista = []\n",
        "# Inicializa contador igual a 1\n",
        "i = 1\n",
        "# Enquanto o valor do contador for menor ou igual ao número de países\n",
        "while i <= n:\n",
        "  # Acrescenta um país na lista\n",
        "  lista.append(input(\"Digite o nome de um país: \"))\n",
        "  # Mostra o valor do contador\n",
        "  print(i)\n",
        "  # Incrementa o contador\n",
        "  i+=1\n",
        "# Mostra a lista\n",
        "print(lista)"
      ],
      "metadata": {
        "colab": {
          "base_uri": "https://localhost:8080/"
        },
        "id": "Znp3esyOApzD",
        "outputId": "387ef64e-846c-4182-9b4e-3fccade8c960"
      },
      "execution_count": 3,
      "outputs": [
        {
          "output_type": "stream",
          "name": "stdout",
          "text": [
            "Digite o número de países: 5\n",
            "Digite o nome de um país: Bélgica\n",
            "1\n",
            "Digite o nome de um país: Holanda\n",
            "2\n",
            "Digite o nome de um país: Portugal\n",
            "3\n",
            "Digite o nome de um país: Lituânia\n",
            "4\n",
            "Digite o nome de um país: Malta\n",
            "5\n",
            "['Bélgica', 'Holanda', 'Portugal', 'Lituânia', 'Malta']\n"
          ]
        }
      ]
    },
    {
      "cell_type": "code",
      "source": [
        "# Número de países\n",
        "n = int(input(\"Digite o número de países: \"))\n",
        "# Inicializa lista vazia\n",
        "paises = []\n",
        "# Enquanto n for maior do que 0\n",
        "while n > 0:\n",
        "  # Acrescenta um país na lista\n",
        "  paises.append(input(\"Digite o nome de um país: \"))\n",
        "  print(n)\n",
        "  # Decrementa o contador\n",
        "  n-=1\n",
        "# Mostra a lista\n",
        "print(paises)"
      ],
      "metadata": {
        "colab": {
          "base_uri": "https://localhost:8080/"
        },
        "id": "exhXQadFC7og",
        "outputId": "8554547f-1d35-4fc1-8828-f9314d875078"
      },
      "execution_count": 4,
      "outputs": [
        {
          "output_type": "stream",
          "name": "stdout",
          "text": [
            "Digite o número de países: 5\n",
            "Digite o nome de um país: Cuba\n",
            "5\n",
            "Digite o nome de um país: Equador\n",
            "4\n",
            "Digite o nome de um país: Argentina\n",
            "3\n",
            "Digite o nome de um país: Uruguai\n",
            "2\n",
            "Digite o nome de um país: Chile\n",
            "1\n",
            "['Cuba', 'Equador', 'Argentina', 'Uruguai', 'Chile']\n"
          ]
        }
      ]
    },
    {
      "cell_type": "markdown",
      "source": [
        "### Exercício 2\n",
        "\n",
        "Leia um número inteiro N e mostre a soma de todos os números até N."
      ],
      "metadata": {
        "id": "9PfYEE9o49Iy"
      }
    },
    {
      "cell_type": "code",
      "source": [
        "# Recebe o número N\n",
        "n = int(input(\"Digite um número: \"))\n",
        "# Inicializa variável soma valendo 0\n",
        "soma = 0\n",
        "# Enquanto N for maior do que 0\n",
        "while n > 0:\n",
        "  # Soma recebe ela mesma + N\n",
        "  soma += n\n",
        "  # Mostra o valor de soma na iteração\n",
        "  print(soma)\n",
        "  # Decrementa N\n",
        "  n-=1"
      ],
      "metadata": {
        "colab": {
          "base_uri": "https://localhost:8080/"
        },
        "id": "q7cb60beER5E",
        "outputId": "de1eda11-f3d9-4972-ba05-dde9d490d35b"
      },
      "execution_count": 5,
      "outputs": [
        {
          "output_type": "stream",
          "name": "stdout",
          "text": [
            "Digite um número: 5\n",
            "5\n",
            "9\n",
            "12\n",
            "14\n",
            "15\n"
          ]
        }
      ]
    },
    {
      "cell_type": "markdown",
      "source": [
        "### Exercício 3\n",
        "\n",
        "Um restaurante que enfrenta problemas com sua capacidade de clientes pediu sua ajuda para fazer um programa para saber quando eles atingem sua capacidade máxima. Faça um programa que leia um número inteiro da capacidade máxima do restaurante, e depois pergunte e leia quantos clientes vão chegando por vez até atingir a capacidade do restaurante. Quando lotar imprima na tela «Restaurante lotado, não há mais mesas disponíveis»."
      ],
      "metadata": {
        "id": "LgMjoK9H6UiK"
      }
    },
    {
      "cell_type": "code",
      "source": [
        "# Restaurante informa a capacidade de lotação da casa\n",
        "capacidade = int(input(\"Capacidade do restaurante: \"))\n",
        "# O restaurante abre para funcionamento, no momento com 0 cliente no local\n",
        "qtde_clientes = 0\n",
        "# Enquanto a quantidade de clientes for menor ou igual à capacidade de lotação\n",
        "while qtde_clientes <= capacidade:\n",
        "  # Recepciona os novos clientes que estão chegando\n",
        "  novos_clientes = int(input(\"Chegaram quantos clientes?\"))\n",
        "  # Se o total de clientes que estão chegando (novos_clientes)\n",
        "  # for MAIOR do que o total de vagas disponíveis ((capacidade-qtde_clientes))\n",
        "  if novos_clientes > (capacidade-qtde_clientes):\n",
        "    # Não receba os clientes\n",
        "    print(\"Não é possível receber os clientes\")\n",
        "  # Se o total de clientes que estão chegando (novos_clientes)\n",
        "  # for IGUAL ao total de vagas disponíveis ((capacidade-qtde_clientes))\n",
        "  elif novos_clientes == (capacidade-qtde_clientes):\n",
        "    # Receba os clientes que chegaram\n",
        "    qtde_clientes += novos_clientes\n",
        "    print('Total de clientes:', qtde_clientes)\n",
        "    # Pare de receber novos clientes\n",
        "    print(\"Casa lotada!\")\n",
        "    break\n",
        "  # Se o total de clientes que estão chegando (novos_clientes)\n",
        "  # for MENOR que o total de vagas disponíveis ((capacidade-qtde_clientes))\n",
        "  else:\n",
        "    # Receba os clientes\n",
        "    qtde_clientes += novos_clientes\n",
        "  print('Total de clientes:', qtde_clientes)"
      ],
      "metadata": {
        "colab": {
          "base_uri": "https://localhost:8080/"
        },
        "id": "b6g_73hQ6fH8",
        "outputId": "fccb7f6d-214b-427f-95f6-f6b9f038f45c"
      },
      "execution_count": 16,
      "outputs": [
        {
          "output_type": "stream",
          "name": "stdout",
          "text": [
            "Capacidade do restaurante: 10\n",
            "Chegaram quantos clientes?8\n",
            "Total de clientes: 8\n",
            "Chegaram quantos clientes?2\n",
            "Total de clientes: 10\n",
            "Casa lotada!\n"
          ]
        }
      ]
    }
  ]
}