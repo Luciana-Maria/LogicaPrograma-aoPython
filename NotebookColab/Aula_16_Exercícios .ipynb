{
  "nbformat": 4,
  "nbformat_minor": 0,
  "metadata": {
    "colab": {
      "provenance": []
    },
    "kernelspec": {
      "name": "python3",
      "display_name": "Python 3"
    },
    "language_info": {
      "name": "python"
    }
  },
  "cells": [
    {
      "cell_type": "markdown",
      "source": [
        "## Exercício 1\n",
        "\n",
        "a) Receba do usuário os salários de 5 funcionários de uma empresa e guarde-os numa lista.\n",
        "\n",
        "b) acrescente mais um salário no começo da lista, outro no final, e outro na posição 3.\n",
        "\n",
        "c) Pesquise pelo salário '1500'. Se esse salário existir na lista, mostre o índice dele. Se não, exiba uma mensagem de erro.\n",
        "\n",
        "d) ordene os salários do maior para o menor e exiba-os.\n",
        "\n",
        "e) calcule e mostre a média dos salários. DICA: utilize as funções *sum(lista)* e *len(lista)*"
      ],
      "metadata": {
        "id": "vebQdfnb5hDB"
      }
    },
    {
      "cell_type": "code",
      "execution_count": null,
      "metadata": {
        "id": "9uzB2EgB5aGZ",
        "colab": {
          "base_uri": "https://localhost:8080/"
        },
        "outputId": "e4f1f46a-9715-4794-b74b-c0acb6c72814"
      },
      "outputs": [
        {
          "output_type": "stream",
          "name": "stdout",
          "text": [
            "Digite o salário: 1500\n",
            "Digite o salário: 2500\n",
            "Digite o salário: 3500\n",
            "Digite o salário: 4500\n",
            "Digite o salário: 5500\n",
            "[1500.0, 2500.0, 3500.0, 4500.0, 5500.0]\n"
          ]
        }
      ],
      "source": [
        "# Letra 'a'\n",
        "salarios = []\n",
        "for i in range(5):\n",
        "  salarios.append(float(input(\"Digite o salário: \")))\n",
        "print(salarios)"
      ]
    },
    {
      "cell_type": "code",
      "source": [
        "len(salarios)"
      ],
      "metadata": {
        "colab": {
          "base_uri": "https://localhost:8080/"
        },
        "id": "gt0daCtYtb0c",
        "outputId": "54bea212-f7d0-4dc5-d8db-eb1cf1ef67e3"
      },
      "execution_count": null,
      "outputs": [
        {
          "output_type": "execute_result",
          "data": {
            "text/plain": [
              "6"
            ]
          },
          "metadata": {},
          "execution_count": 7
        }
      ]
    },
    {
      "cell_type": "code",
      "source": [
        "# Letra 'b'\n",
        "salarios.insert(0, float(input(\"Digite o salário: \"))) # insere na primeira posição\n",
        "print(salarios)"
      ],
      "metadata": {
        "colab": {
          "base_uri": "https://localhost:8080/"
        },
        "id": "I93KXdI-towy",
        "outputId": "3384a889-81f3-4606-fab7-2d5a3af1af5e"
      },
      "execution_count": null,
      "outputs": [
        {
          "output_type": "stream",
          "name": "stdout",
          "text": [
            "[6500.0, 1500.0, 2500.0, 3500.0, 4500.0, 5500.0]\n"
          ]
        }
      ]
    },
    {
      "cell_type": "code",
      "source": [
        "# Letra 'b'\n",
        "salarios.append(float(input(\"Digite o salário: \"))) # insere na última posição\n",
        "print(salarios)"
      ],
      "metadata": {
        "colab": {
          "base_uri": "https://localhost:8080/"
        },
        "id": "D3fJzFwKsYf8",
        "outputId": "807586d7-f503-4c01-8d25-b5546faacd52"
      },
      "execution_count": null,
      "outputs": [
        {
          "output_type": "stream",
          "name": "stdout",
          "text": [
            "Digite o salário: 7500\n",
            "[6500.0, 1500.0, 2500.0, 3500.0, 4500.0, 5500.0, 7500.0]\n"
          ]
        }
      ]
    },
    {
      "cell_type": "code",
      "source": [
        "# Letra 'b'\n",
        "salarios.insert(3, float(input(\"Digite o salário: \"))) # insere na posição 3 (index 3)\n",
        "print(salarios)"
      ],
      "metadata": {
        "colab": {
          "base_uri": "https://localhost:8080/"
        },
        "id": "5ir-KN7TtnnJ",
        "outputId": "5c4fc952-f8a9-4013-8c8a-fc9b6c5eddf0"
      },
      "execution_count": null,
      "outputs": [
        {
          "output_type": "stream",
          "name": "stdout",
          "text": [
            "Digite o salário: 8500\n",
            "[6500.0, 1500.0, 2500.0, 8500.0, 3500.0, 4500.0, 5500.0, 7500.0]\n"
          ]
        }
      ]
    },
    {
      "cell_type": "code",
      "source": [
        "# Letra 'c'\n",
        "if 1500 in salarios:\n",
        "   print(salarios.index(1500.0))\n",
        "else:\n",
        "  print('Valor não encontrado na lista')"
      ],
      "metadata": {
        "colab": {
          "base_uri": "https://localhost:8080/"
        },
        "id": "Hqgu1nwLvznR",
        "outputId": "c6d6933a-6b91-46e3-c70e-3632525653b4"
      },
      "execution_count": null,
      "outputs": [
        {
          "output_type": "stream",
          "name": "stdout",
          "text": [
            "1\n"
          ]
        }
      ]
    },
    {
      "cell_type": "code",
      "source": [
        "# Letra 'd'\n",
        "salarios.sort(reverse=True)\n",
        "salarios"
      ],
      "metadata": {
        "colab": {
          "base_uri": "https://localhost:8080/"
        },
        "id": "wZyY58vC0qoU",
        "outputId": "a3acf529-1e73-459c-c4d0-c7f7442a879c"
      },
      "execution_count": null,
      "outputs": [
        {
          "output_type": "execute_result",
          "data": {
            "text/plain": [
              "[8500.0, 7500.0, 6500.0, 5500.0, 4500.0, 3500.0, 2500.0, 1500.0]"
            ]
          },
          "metadata": {},
          "execution_count": 21
        }
      ]
    },
    {
      "cell_type": "code",
      "source": [
        "# Letra 'e'\n",
        "sum(salarios) / len(salarios)"
      ],
      "metadata": {
        "colab": {
          "base_uri": "https://localhost:8080/"
        },
        "id": "0xOxpbND1BPN",
        "outputId": "724f691a-6b7d-40f0-b661-1d478717d269"
      },
      "execution_count": null,
      "outputs": [
        {
          "output_type": "execute_result",
          "data": {
            "text/plain": [
              "5000.0"
            ]
          },
          "metadata": {},
          "execution_count": 22
        }
      ]
    }
  ]
}