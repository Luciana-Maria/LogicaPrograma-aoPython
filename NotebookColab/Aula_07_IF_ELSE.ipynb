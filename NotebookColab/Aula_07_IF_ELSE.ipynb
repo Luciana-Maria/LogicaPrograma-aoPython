{
  "nbformat": 4,
  "nbformat_minor": 0,
  "metadata": {
    "colab": {
      "provenance": []
    },
    "kernelspec": {
      "name": "python3",
      "display_name": "Python 3"
    },
    "language_info": {
      "name": "python"
    }
  },
  "cells": [
    {
      "cell_type": "markdown",
      "source": [
        "## **EXERCÍCIOS**\n",
        "\n",
        "Crie códigos em Python para resolver os problemas a seguir."
      ],
      "metadata": {
        "id": "MnLX4duixEJM"
      }
    },
    {
      "cell_type": "markdown",
      "source": [
        "#### Exercício 1\n",
        "\n",
        "Receber as três notas de um aluno e escolher se quer calcular a média aritmética ou a média ponderada."
      ],
      "metadata": {
        "id": "uD3Yxq7rxJJL"
      }
    },
    {
      "cell_type": "code",
      "execution_count": null,
      "metadata": {
        "colab": {
          "base_uri": "https://localhost:8080/"
        },
        "id": "OjyryLiBxBKP",
        "outputId": "0b52e640-5a27-4028-b76c-25c71a2a6402"
      },
      "outputs": [
        {
          "output_type": "stream",
          "name": "stdout",
          "text": [
            "Digite a nota 1: 10\n",
            "Digite a nota 2: 8\n",
            "Digite a nota 3: 6\n",
            "Digite qual o tipo de média que você quer calcular: ARITMETICA ou PONDERADA: PONDERADA\n",
            "Os pesos são 50% para nota 1; 30% para nota 2; e 20% para nota 3\n",
            "A média ponderada é:  8.6\n"
          ]
        }
      ],
      "source": [
        "# ENTRADA\n",
        "nota1 = float(input(\"Digite a nota 1: \"))\n",
        "nota2 = float(input(\"Digite a nota 2: \"))\n",
        "nota3 = float(input(\"Digite a nota 3: \"))\n",
        "tipo_media = input(\"Digite qual o tipo de média que você quer calcular: ARITMETICA ou PONDERADA: \")\n",
        "\n",
        "# PROCESSAMENTO\n",
        "if tipo_media == \"ARITMETICA\":\n",
        "  media_aritmetica = ( nota1 + nota2 + nota3 ) / 3\n",
        "  # SAÍDA\n",
        "  print(\"A média aritmética é: \", media_aritmetica)\n",
        "\n",
        "# PROCESSAMENTO\n",
        "if tipo_media == \"PONDERADA\":\n",
        "  print(\"Os pesos são 50% para nota 1; 30% para nota 2; e 20% para nota 3\")\n",
        "  media_ponderada = ( (nota1 * 5) + (nota2 * 3) + (nota3 * 2) ) / 10\n",
        "  # SAÍDA\n",
        "  print(\"A média ponderada é: \", media_ponderada)\n",
        "\n"
      ]
    },
    {
      "cell_type": "markdown",
      "source": [
        "#### Exercício 2\n",
        "\n",
        "Calcular a média aritmética entre três notas de um aluno e dizer se ele foi aprovado ou reprovado. O critério de aprovação deve ser ter nota maior ou igual a 6.0."
      ],
      "metadata": {
        "id": "VTJd_PYM5gfP"
      }
    },
    {
      "cell_type": "code",
      "source": [
        "# ENTRADA\n",
        "nota1 = float(input(\"Digite a nota 1: \"))\n",
        "nota2 = float(input(\"Digite a nota 2: \"))\n",
        "nota3 = float(input(\"Digite a nota 3: \"))\n",
        "\n",
        "# PROCESSAMENTO\n",
        "media = ( nota1 + nota2 + nota3 ) / 3\n",
        "\n",
        "# SAÍDA\n",
        "if media >= 6.0:\n",
        "  print(\"Aprovado\")\n",
        "# SAÍDA\n",
        "else:\n",
        "  print(\"Reprovado\")"
      ],
      "metadata": {
        "colab": {
          "base_uri": "https://localhost:8080/"
        },
        "id": "nJpcnkFy5gQA",
        "outputId": "0a7850f8-ffd3-449e-b9fa-297b75ac4261"
      },
      "execution_count": null,
      "outputs": [
        {
          "output_type": "stream",
          "name": "stdout",
          "text": [
            "Digite a nota 1: 10\n",
            "Digite a nota 2: 3\n",
            "Digite a nota 3: 4.2\n",
            "Reprovado\n"
          ]
        }
      ]
    },
    {
      "cell_type": "markdown",
      "source": [
        "#### Exercício 3\n",
        "\n",
        "Receber a renda per capita familiar do aluno e verificar se ele pode se matricular nos cursos gratuitos do SENAC. O critério de aprovação deve ser ter renda menor ou igual a 1,5 salário mínimo."
      ],
      "metadata": {
        "id": "s5wT3ZqJ_e_d"
      }
    },
    {
      "cell_type": "code",
      "source": [
        "renda = float(input(\"Informe a renda do estudante: \"))\n",
        "if renda <= 1412 * 1.5:\n",
        "  print(\"Estudante pode se matricular\")\n",
        "else:\n",
        "  print(\"Estudante não pode se matricular\")"
      ],
      "metadata": {
        "id": "kpQKzAJG_nH9",
        "colab": {
          "base_uri": "https://localhost:8080/"
        },
        "outputId": "6bc585d3-7ae8-4ddc-e113-5ce9947964a7"
      },
      "execution_count": 6,
      "outputs": [
        {
          "output_type": "stream",
          "name": "stdout",
          "text": [
            "Informe a renda do estudante: 2118\n",
            "Estudante pode se matricular\n"
          ]
        }
      ]
    },
    {
      "cell_type": "markdown",
      "source": [
        "#### Exercício 4\n",
        "\n",
        "Receber um número e verificar se ele é par ou ímpar."
      ],
      "metadata": {
        "id": "NQLaKQr8_iZe"
      }
    },
    {
      "cell_type": "code",
      "source": [
        "x = int(input(\"Digite um número inteiro: \"))\n",
        "if x % 2 == 0:\n",
        "  print(x, \" é par\")\n",
        "else:\n",
        "  print(x, \" é ímpar\")"
      ],
      "metadata": {
        "id": "AbQtj73C_hOg",
        "colab": {
          "base_uri": "https://localhost:8080/"
        },
        "outputId": "26987389-70ca-4310-e133-e57ee1ea77e2"
      },
      "execution_count": 8,
      "outputs": [
        {
          "output_type": "stream",
          "name": "stdout",
          "text": [
            "Digite um número inteiro: 2\n",
            "2  é par\n"
          ]
        }
      ]
    },
    {
      "cell_type": "markdown",
      "source": [
        "#### Exercício 5\n",
        "\n",
        "Receber dois números, x e y, e multiplicar x por y caso sejam iguais ou dividir x por y caso sejam diferentes."
      ],
      "metadata": {
        "id": "pao1nNMFD-jt"
      }
    },
    {
      "cell_type": "code",
      "source": [
        "# ENTRADA\n",
        "x = float(input(\"Digite o primeiro número: \"))\n",
        "y = float(input(\"Digite o primeiro número: \"))\n",
        "# PROCESSAMENTO\n",
        "if x == y:\n",
        "  # SAÍDA\n",
        "  print(x*y)\n",
        "else:\n",
        "  # SAÍDA\n",
        "  print(x/y)"
      ],
      "metadata": {
        "colab": {
          "base_uri": "https://localhost:8080/"
        },
        "id": "9HNNGIzREAE3",
        "outputId": "9c7950ea-95ad-4388-e49a-42aa67279c8b"
      },
      "execution_count": 2,
      "outputs": [
        {
          "output_type": "stream",
          "name": "stdout",
          "text": [
            "Digite o primeiro número: 8\n",
            "Digite o primeiro número: 4\n",
            "2.0\n"
          ]
        }
      ]
    },
    {
      "cell_type": "markdown",
      "source": [
        "#### Exercício 6"
      ],
      "metadata": {
        "id": "vDzXR5UDFg_7"
      }
    },
    {
      "cell_type": "markdown",
      "source": [
        "Tendo como dados de entrada a altura e o sexo de uma pessoa, calcule seu peso ideal, utilizando as seguintes fórmulas:\n",
        "- para homens: (72.7 * altura) - 58\n",
        "- para mulheres: (62.1 * altura) - 44.7"
      ],
      "metadata": {
        "id": "tTI6SgIPFpR6"
      }
    },
    {
      "cell_type": "code",
      "source": [
        "# ENTRADA\n",
        "altura = float(input(\"Informe a altura: \"))\n",
        "sexo = input(\"Informe o sexo: \")\n",
        "\n",
        "# PROCESSAMENTO\n",
        "if sexo == \"masculino\":\n",
        "  peso_ideal = (72.7 * altura) - 58\n",
        "else:\n",
        "  peso_ideal = (62.1 * altura) - 44.7\n",
        "\n",
        "# SAÍDA\n",
        "print(\"O peso ideal é: \", peso_ideal)"
      ],
      "metadata": {
        "colab": {
          "base_uri": "https://localhost:8080/"
        },
        "id": "0yjlGs6LFj76",
        "outputId": "0b3629a7-fc35-4e87-c587-3e763e45ec70"
      },
      "execution_count": 4,
      "outputs": [
        {
          "output_type": "stream",
          "name": "stdout",
          "text": [
            "Informe a altura: 1.83\n",
            "Informe o sexo: masculino\n",
            "O peso ideal é:  75.041\n"
          ]
        }
      ]
    }
  ]
}