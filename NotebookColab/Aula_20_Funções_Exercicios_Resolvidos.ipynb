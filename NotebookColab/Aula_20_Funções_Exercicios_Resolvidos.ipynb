{
  "nbformat": 4,
  "nbformat_minor": 0,
  "metadata": {
    "colab": {
      "provenance": []
    },
    "kernelspec": {
      "name": "python3",
      "display_name": "Python 3"
    },
    "language_info": {
      "name": "python"
    }
  },
  "cells": [
    {
      "cell_type": "markdown",
      "source": [
        "## Funções"
      ],
      "metadata": {
        "id": "4gL52qKPnG4a"
      }
    },
    {
      "cell_type": "markdown",
      "source": [
        "Uma função é um trecho de código que executa uma tarefa específica.\n",
        "\n",
        "Esse trechinho de código tem suas próprias entradas, processamento e saída.\n",
        "\n",
        "A vantagem de se utilizar funções é que podemos chamá-las a qualquer momento dentro do nosso código, sem precisar escrever tudo de novo."
      ],
      "metadata": {
        "id": "rWvrE7amkh_w"
      }
    },
    {
      "cell_type": "code",
      "execution_count": null,
      "metadata": {
        "colab": {
          "base_uri": "https://localhost:8080/"
        },
        "id": "oq4CUv3DjGrt",
        "outputId": "5bc4a92e-f7dc-4e81-89d9-0298256715b9"
      },
      "outputs": [
        {
          "output_type": "stream",
          "name": "stdout",
          "text": [
            "Digite o primeiro número: 5\n",
            "Digite o segundo número: 2\n",
            "7\n"
          ]
        }
      ],
      "source": [
        "# Soma de dois números - LINHA A LINHA\n",
        "x = int(input(\"Digite o primeiro número: \"))\n",
        "y = int(input(\"Digite o segundo número: \"))\n",
        "print(x + y)"
      ]
    },
    {
      "cell_type": "code",
      "source": [
        "# Soma de dois números - FUNÇÃO\n",
        "\n",
        "# Parâmetros/Argumentos - ENTRADA\n",
        "def somar(x, y):\n",
        "  # Cálculos - PROCESSAMENTO\n",
        "  resultado = x + y\n",
        "  # Retorno - SAÍDA\n",
        "  return resultado"
      ],
      "metadata": {
        "id": "pK3l3jUrlQ45"
      },
      "execution_count": null,
      "outputs": []
    },
    {
      "cell_type": "code",
      "source": [
        "somar(int(3), int(2))"
      ],
      "metadata": {
        "colab": {
          "base_uri": "https://localhost:8080/"
        },
        "id": "otQb7C5nmTGK",
        "outputId": "4ddb6962-c4e1-4744-9a34-7c643dbe4a30"
      },
      "execution_count": null,
      "outputs": [
        {
          "output_type": "execute_result",
          "data": {
            "text/plain": [
              "5"
            ]
          },
          "metadata": {},
          "execution_count": 4
        }
      ]
    },
    {
      "cell_type": "code",
      "source": [
        "somar(int(4), int(7))"
      ],
      "metadata": {
        "colab": {
          "base_uri": "https://localhost:8080/"
        },
        "id": "tTdO5p6Tma5B",
        "outputId": "b9db4d50-1e6b-4ad1-f2ed-a3db090e8bbd"
      },
      "execution_count": null,
      "outputs": [
        {
          "output_type": "execute_result",
          "data": {
            "text/plain": [
              "11"
            ]
          },
          "metadata": {},
          "execution_count": 5
        }
      ]
    },
    {
      "cell_type": "code",
      "source": [
        "somar(int(5), int(8))"
      ],
      "metadata": {
        "colab": {
          "base_uri": "https://localhost:8080/"
        },
        "id": "6JvpJ0XEmdpI",
        "outputId": "6bacf9ce-7222-49c9-aff1-637c36a6d984"
      },
      "execution_count": null,
      "outputs": [
        {
          "output_type": "execute_result",
          "data": {
            "text/plain": [
              "13"
            ]
          },
          "metadata": {},
          "execution_count": 6
        }
      ]
    },
    {
      "cell_type": "markdown",
      "source": [
        "## Exercícios"
      ],
      "metadata": {
        "id": "_mNU2EK2nK2f"
      }
    },
    {
      "cell_type": "markdown",
      "source": [
        "#### Exercício 1\n",
        "\n",
        "Crie 7 funções que recebam como argumentos dois números inteiros.\n",
        "- a primeira função deve somar os dois números (X + Y);\n",
        "- a segunda deve subtrair o segundo do primeiro (X - Y);\n",
        "- a terceira deve multiplicar ambos os números (X * Y);\n",
        "- a quarta deve dividir o primeiro pelo segundo (X / Y) (caso o denominador (Y) seja igual a zero, retorne o valor -1);\n",
        "- a quinta função deve calcular o resto da divisão inteira do primeiro pelo segundo (X % Y);\n",
        "- a sexta função deve exponenciar o primeiro pelo segundo (X ^ Y);\n",
        "- a sétima função deve extrair a raíz (X ^ 1/Y).\n",
        "<br><br>\n",
        "Em seguida, crie um algoritmo que receba do usuário dois números inteiros bem como a operação que o usuário deseja efetuar:\n",
        "\n",
        "- 1 - Adição\n",
        "- 2 - Subtração\n",
        "- 3 - Multiplicação\n",
        "- 4 - Divisão\n",
        "- 5 - Divisão inteira\n",
        "- 6 - Exponenciação\n",
        "- 7 - Radiciação\n",
        "\n",
        "Chame a função adequada para a operação que o usuário selecionar.Utilize a estrutura MATCH...CASE."
      ],
      "metadata": {
        "id": "NNq0P5PTnNMv"
      }
    },
    {
      "cell_type": "markdown",
      "source": [
        "### Exercício 2\n",
        "\n",
        "a) Adicione um loop while que permita ao usuário retornar ao menu de opções após realizar a operação desejada. Saia do loop se o usuário digitar 0.\n",
        "\n",
        "b) Transforme o código acima em uma função."
      ],
      "metadata": {
        "id": "nFrOUpep8my4"
      }
    },
    {
      "cell_type": "code",
      "source": [
        "def somar(x, y):\n",
        "  return x + y\n",
        "\n",
        "def subtrair(x, y):\n",
        "  return x - y\n",
        "\n",
        "def multiplicar(x, y):\n",
        "  return x * y\n",
        "\n",
        "def dividir(x, y):\n",
        "  if y == 0:\n",
        "    return -1\n",
        "  else:\n",
        "    return x / y\n",
        "\n",
        "def resto(x, y):\n",
        "  if y == 0:\n",
        "    return -1\n",
        "  else:\n",
        "    return x % y\n",
        "\n",
        "def exponenciar(x, y):\n",
        "  return x ** y\n",
        "\n",
        "def radiciar(x, y):\n",
        "  if y == 0:\n",
        "    return -1\n",
        "  else:\n",
        "    return x ** (1/y)"
      ],
      "metadata": {
        "id": "08FDcCzinMHP"
      },
      "execution_count": null,
      "outputs": []
    },
    {
      "cell_type": "code",
      "source": [
        "def menu():\n",
        "\n",
        "  while True:\n",
        "\n",
        "    print(\"\\nCALCULADORA\")\n",
        "    print(\"----------------\")\n",
        "    print(\"1 - Adição\")\n",
        "    print(\"2 - Subtração\")\n",
        "    print(\"3 - Multiplicação\")\n",
        "    print(\"4 - Divisão\")\n",
        "    print(\"5 - Resto da divisão inteira\")\n",
        "    print(\"6 - Exponenciação\")\n",
        "    print(\"7 - Radiciação\")\n",
        "    print(\"0 - Sair\")\n",
        "    opcao = input(\"Informe a opção desejada: \")\n",
        "\n",
        "    if opcao == \"0\":\n",
        "      print(\"\\nPrograma encerrado!\")\n",
        "      break\n",
        "    else:\n",
        "      x = int(input(\"Digite o primeiro número: \"))\n",
        "      y = int(input(\"Digite o segundo número: \"))\n",
        "\n",
        "      resultado = -1\n",
        "      match opcao:\n",
        "        case \"1\":\n",
        "          resultado = somar(x, y)\n",
        "        case \"2\":\n",
        "          resultado = subtrair(x, y)\n",
        "        case \"3\":\n",
        "          resultado = multiplicar(x, y)\n",
        "        case \"4\":\n",
        "          resultado = dividir(x, y)\n",
        "          if resultado == -1:\n",
        "            print(\"Não existe divisão por 0!\")\n",
        "        case \"5\":\n",
        "          resultado = resto(x, y)\n",
        "          if resultado == -1:\n",
        "            print(\"Não existe divisão por 0!\")\n",
        "        case \"6\":\n",
        "          resultado = exponenciar(x, y)\n",
        "        case \"7\":\n",
        "          resultado = radiciar(x, y)\n",
        "          if resultado == -1:\n",
        "            print(\"Não existe radiciação com índice 0!\")\n",
        "        case _:\n",
        "          print(\"Opção inválida!\")\n",
        "\n",
        "      if resultado != -1:\n",
        "        print(\"Resultado: \", resultado)"
      ],
      "metadata": {
        "id": "0yqyTSYx1ara"
      },
      "execution_count": 26,
      "outputs": []
    },
    {
      "cell_type": "code",
      "source": [
        "def calcular_tudo():\n",
        "  x = int(input(\"Digite o primeiro número: \"))\n",
        "  y = int(input(\"Digite o segundo número: \"))\n",
        "  print(somar(x, y))\n",
        "  print(subtrair(x, y))\n",
        "  print(multiplicar(x, y))\n",
        "  print(dividir(x, y))\n",
        "  print(resto(x, y))\n",
        "  print(exponenciar(x, y))\n",
        "  print(radiciar(x, y))"
      ],
      "metadata": {
        "id": "_RC73whRIdQL"
      },
      "execution_count": 27,
      "outputs": []
    },
    {
      "cell_type": "code",
      "source": [
        "calcular_tudo()"
      ],
      "metadata": {
        "colab": {
          "base_uri": "https://localhost:8080/"
        },
        "id": "CMQlU_GII02o",
        "outputId": "e5f2f738-bf41-4a00-c407-7ab789f4cc5d"
      },
      "execution_count": 28,
      "outputs": [
        {
          "output_type": "stream",
          "name": "stdout",
          "text": [
            "Digite o primeiro número: 2\n",
            "Digite o segundo número: 3\n",
            "5\n",
            "-1\n",
            "6\n",
            "0.6666666666666666\n",
            "2\n",
            "8\n",
            "0.6666666666666666\n"
          ]
        }
      ]
    }
  ]
}