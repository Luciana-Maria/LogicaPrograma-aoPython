{
  "nbformat": 4,
  "nbformat_minor": 0,
  "metadata": {
    "colab": {
      "provenance": []
    },
    "kernelspec": {
      "name": "python3",
      "display_name": "Python 3"
    },
    "language_info": {
      "name": "python"
    }
  },
  "cells": [
    {
      "cell_type": "markdown",
      "source": [
        "## Exercício de Recapitulação\n",
        "\n",
        "Crie um algoritmo em Python que calcule a Média Ponderada entre três notas. Saiba que o peso da primeira nota é 50% (ou 5); o peso da segunda nota é 30% (ou 3); e o peso da terceira nota é 20% (ou 2).\n",
        "\n",
        "OBS: Na média ponderada, a soma dos pesos deve ser igual a 10.\n",
        "\n",
        "*Média Ponderada* = (Nota 1 * Peso 1) + (Nota 2 * Peso 2) + (Nota 3 * Peso 3) / Peso 1 + Peso 2 + Peso 3\n",
        "\n",
        "Como fazer neste mesmo código para calcular também a média aritmética?"
      ],
      "metadata": {
        "id": "12vknjsOp6kN"
      }
    },
    {
      "cell_type": "code",
      "execution_count": null,
      "metadata": {
        "colab": {
          "base_uri": "https://localhost:8080/"
        },
        "id": "T4KbL0RZp352",
        "outputId": "f484c47c-363d-4e9f-e59f-37b47887e369"
      },
      "outputs": [
        {
          "output_type": "stream",
          "name": "stdout",
          "text": [
            "Informe a primeira nota: 8\n",
            "Informe a segunda nota: 9\n",
            "Informe a terceira nota: 10\n",
            "A média ponderada é:  8.7\n",
            "A média aritmética é:  9.0\n"
          ]
        }
      ],
      "source": [
        "# ENTRADA - Dados (Variáveis)\n",
        "nota1 = float(input(\"Informe a primeira nota: \"))\n",
        "nota2 = float(input(\"Informe a segunda nota: \"))\n",
        "nota3 = float(input(\"Informe a terceira nota: \"))\n",
        "\n",
        "# PROCESSAMENTO - Transforma os dados em informações através de cálculos\n",
        "media_ponderada = ( (nota1 * 5) + (nota2 * 3) + (nota3 * 2) ) / 10\n",
        "media_aritmetica = ( nota1 + nota2 + nota3 ) / 3\n",
        "\n",
        "# SAÍDA - Informações (Variáveis)\n",
        "print(\"A média ponderada é: \", media_ponderada)\n",
        "print(\"A média aritmética é: \", media_aritmetica)"
      ]
    },
    {
      "cell_type": "markdown",
      "source": [
        "## Regras do Python"
      ],
      "metadata": {
        "id": "Eso-nEGrLiho"
      }
    },
    {
      "cell_type": "markdown",
      "source": [
        "1. REGRA: Todas as variáveis devem ser escritas da seguinte maneira:\n",
        "- Sem espaço\n",
        "- Sem ponto\n",
        "- Sem acento\n",
        "- Sem caractere especial\n",
        "- Sem números na primeira posição\n",
        "\n",
        "2. CONVENÇÃO: O padrão de nomenclatura da linguagem Python é o Snake Case, que pede a separação de palavras utilizando o underline \"_\" e com todas as letras minúsculas.\n",
        "\n",
        "3. O Python é \"case sensitive\", isto é, ele diferencia letras maiúsculas de minúsculas. Isto significa que a variável \"NOME\" é diferente da variável \"nome\".\n",
        "\n",
        "4. Como o Python foi baseado no idioma inglês, ele separa as casas decimais dos números utilizando \".\" (ponto) ao invés de \",\" (vírgula).\n",
        "\n",
        "5. O Python utiliza a indentação como recurso de separação de blocos, ou seja, todo bloco tem início com \":\" dois pontos após a instrução e tudo o que vem abaixo deve estar alinhado à direita.\n",
        "\n",
        "6. No Python, tudo que vem do \"input\" ele entende como variável alfanumérica, do tipo \"str\". Para converter em outro tipo, é necessário utilizar um recurso chamado \"cast\", que é envolver o input entre parênteses para converter a informação que vem do input no tipo de dado desejado.\n",
        "\n",
        "7. Todo número com o qual você não irá fazer cálculos (CPF, RENAVAM, CNPJ, Telefone, CEP...) deve ser armazenado como alfanumérico \"str\"!\n",
        "\n",
        "8. O resultado da divisão entre dois números será sempre um float."
      ],
      "metadata": {
        "id": "nz4gMUoMtiBR"
      }
    },
    {
      "cell_type": "code",
      "source": [],
      "metadata": {
        "id": "3Kqs0D_iLotx"
      },
      "execution_count": null,
      "outputs": []
    }
  ]
}