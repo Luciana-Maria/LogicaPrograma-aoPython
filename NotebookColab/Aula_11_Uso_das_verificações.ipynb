{
  "nbformat": 4,
  "nbformat_minor": 0,
  "metadata": {
    "colab": {
      "provenance": []
    },
    "kernelspec": {
      "name": "python3",
      "display_name": "Python 3"
    },
    "language_info": {
      "name": "python"
    }
  },
  "cells": [
    {
      "cell_type": "markdown",
      "source": [
        "### Exercício 1\n",
        "\n",
        "Num curso superior presencial do SENAC os alunos devem obedecer a dois critérios para serem aprovados:\n",
        "- ter média final igual ou superior a 6.0\n",
        "- ter frequência maior ou igual a 75%\n",
        "\n",
        "Receba a nota e a frequência de um estudante e verifique se ele foi:\n",
        "- Aprovado\n",
        "- Reprovado por nota\n",
        "- Reprovado por frequência\n",
        "- Reprovado por nota e frequência"
      ],
      "metadata": {
        "id": "zKyp3r__YLWb"
      }
    },
    {
      "cell_type": "code",
      "source": [
        "nota = float(input(\"Digite a nota do aluno: \"))\n",
        "frequencia = float(input(\"Digite a frequência do aluno: \"))\n",
        "\n",
        "if nota < 6.0 and frequencia < 75:\n",
        "  print(\"Reprovado por nota\")\n",
        "elif nota < 6.0 and frequencia >= 75:\n",
        "  print(\"Reprovado por nota\")\n",
        "elif nota >= 6.0 and frequencia < 75:\n",
        "  print(\"Reprovado por frequencia\")\n",
        "else:\n",
        "  print(\"Aprovado\")"
      ],
      "metadata": {
        "id": "-we2Wj_rGzSs"
      },
      "execution_count": null,
      "outputs": []
    },
    {
      "cell_type": "markdown",
      "source": [
        "### Exercício 2\n",
        "\n",
        "Uma empresa quer criar um programa de computador para verificar se seus empregados estão qualificados para requerer a aposentadoria. Para isto, um dos seguintes requisitos deve ser satisfeito: 1) ter no mínimo 65 anos de idade 2) Ter trabalhado no mínimo 30 anos 3) Ter no mínimo 60 anos e ter trabalhado no mínimo 25 anos. Com base nas informações acima, faça um algoritmo que receba (leia): o código do empregado, o ano de seu nascimento e o ano de seu ingresso na empresa. O programa deverá mostrar (escrever) a idade e o tempo de trabalho do empregado, bem como a mensagem 'Pode requerer aposentadoria' ou 'Não pode requerer aposentadoria'.​"
      ],
      "metadata": {
        "id": "361GXqMtS2R3"
      }
    },
    {
      "cell_type": "code",
      "execution_count": null,
      "metadata": {
        "id": "5UP1TV_6Q-ez"
      },
      "outputs": [],
      "source": [
        "# EFICIENTE\n",
        "\n",
        "codigo_empregado = input(\"Informe o código(matrícula) do empregado: \")\n",
        "ano_nascimento = int(input(\"Informe o ano de nascimento do empregado: \"))\n",
        "ano_ingresso = int(input(\"Infome o ano de ingresso do empregado na empresa: \"))\n",
        "\n",
        "idade = 2024 - ano_nascimento\n",
        "tempo_servico = 2024 - ano_ingresso\n",
        "\n",
        "if idade >= 65:\n",
        "  print(\"Pode requerer aposentadoria.\")\n",
        "elif tempo_servico >= 30:\n",
        "  print(\"Pode requerer aposentadoria.\")\n",
        "elif idade >= 60 and tempo_servico >= 25:\n",
        "  print(\"Pode requerer aposentadoria.\")\n",
        "else:\n",
        "  print(\"Não pode requerer aposentadoria.\")"
      ]
    },
    {
      "cell_type": "code",
      "source": [
        "# EFICAZ E EFICIENTE\n",
        "\n",
        "codigo_empregado = input(\"Informe o código(matrícula) do empregado: \")\n",
        "ano_nascimento = int(input(\"Informe o ano de nascimento do empregado: \"))\n",
        "ano_ingresso = int(input(\"Infome o ano de ingresso do empregado na empresa: \"))\n",
        "\n",
        "idade = 2024 - ano_nascimento\n",
        "tempo_servico = 2024 - ano_ingresso\n",
        "\n",
        "if idade >= 65 or tempo_servico >= 30 or (idade >= 60 and tempo_servico >= 25):\n",
        "  print(\"Pode requerer aposentadoria.\")\n",
        "else:\n",
        "  print(\"Não pode requerer aposentadoria.\")"
      ],
      "metadata": {
        "id": "DoNb0xIO4Bh8"
      },
      "execution_count": null,
      "outputs": []
    },
    {
      "cell_type": "markdown",
      "source": [
        "### Exercício 3\n",
        "\n",
        "Receba os três lados de um triângulo e diga se é um triângulo equilátero, isósceles ou escaleno.\n",
        "- Equilátero: todos os lados são iguais\n",
        "- Isósceles: apenas dois lados são iguais\n",
        "- Escaleno: todos os lados são diferentes"
      ],
      "metadata": {
        "id": "vyi8ewcxTcTe"
      }
    },
    {
      "cell_type": "code",
      "source": [
        "lado_a = float(input(\"Digite o valor do Lado A do triângulo: \"))\n",
        "lado_b = float(input(\"Digite o valor do Lado B do triângulo: \"))\n",
        "lado_c = float(input(\"Digite o valor do Lado C do triângulo: \"))\n",
        "\n",
        "if lado_a == lado_b == lado_c:\n",
        "  print(\"Equilátero\")\n",
        "elif lado_a == lado_b or lado_b == lado_c or lado_c == lado_a:\n",
        "  print(\"Isóceles\")\n",
        "else:\n",
        "  print(\"Escaleno\")"
      ],
      "metadata": {
        "colab": {
          "base_uri": "https://localhost:8080/"
        },
        "id": "4Vzu-powTbL9",
        "outputId": "302bb445-32f3-4325-b7a9-6d4e11015910"
      },
      "execution_count": null,
      "outputs": [
        {
          "output_type": "stream",
          "name": "stdout",
          "text": [
            "Digite o valor do Lado A do triângulo: 8\n",
            "Digite o valor do Lado B do triângulo: 8\n",
            "Digite o valor do Lado C do triângulo: 8\n",
            "Equilátero\n"
          ]
        }
      ]
    },
    {
      "cell_type": "markdown",
      "source": [
        "### Exercício 4\n",
        "\n",
        "Receba o salário de um colaborador e calcule o novo salário que o colaborador irá receber após o reajuste segundo os seguintes critérios:\n",
        "\n",
        "- JÚNIOR (salários até 4.000,00 reais) : aumento de 15%\n",
        "- PLENO: (salários entre 4.000,01 reais e 9.000,00 reais) : aumento de 10%\n",
        "- SÊNIOR: (salários entre 9.000,01 reais e 14.000,00 reais): aumento de 5%\n",
        "\n",
        "Importante: o sistema deve emitir uma mensagem de erro caso o colaborador informe um salário abaixo de zero ou acima de 14 mil."
      ],
      "metadata": {
        "id": "DEXaL1ckURxq"
      }
    },
    {
      "cell_type": "code",
      "source": [
        "salario = float(input(\"Entre com o salário do colaborador: \"))\n",
        "\n",
        "if salario > 0 and salario <= 4000:\n",
        "  print(\"Novo salário: \", salario*1.15)\n",
        "elif salario > 4000 and salario <= 9000:\n",
        "  print(\"Novo salário: \", salario*1.10)\n",
        "elif salario > 9000 and salario <= 14000:\n",
        "  print(\"Novo salário: \", salario*1.05)\n",
        "else:\n",
        "  print(\"Salário inválido\")"
      ],
      "metadata": {
        "id": "MNBPxKRnV2HQ"
      },
      "execution_count": null,
      "outputs": []
    }
  ]
}