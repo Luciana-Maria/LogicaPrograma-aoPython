{
  "nbformat": 4,
  "nbformat_minor": 0,
  "metadata": {
    "colab": {
      "provenance": []
    },
    "kernelspec": {
      "name": "python3",
      "display_name": "Python 3"
    },
    "language_info": {
      "name": "python"
    }
  },
  "cells": [
    {
      "cell_type": "markdown",
      "source": [
        "## Atividade Formativa\n",
        "\n",
        "Escreva os códigos a seguir utilizando os comandos de entrada e saída e os operadores da linguagem Python. Lembre-se de identificar, usando comentários (#), as etapas de ENTRADA, PROCESSAMENTO e SAÍDA."
      ],
      "metadata": {
        "id": "Is-fLJ7JBWwt"
      }
    },
    {
      "cell_type": "markdown",
      "source": [
        "\n",
        "\n",
        "**EXERCÍCIO 1**\n",
        "\n",
        "Crie um algoritmo que calcule a velocidade média de um veículo com base na distância percorrida e no tempo decorrido.\n",
        "\n",
        "- velocidade = distância / tempo\n",
        "\n"
      ],
      "metadata": {
        "id": "HKm6usdY79V1"
      }
    },
    {
      "cell_type": "markdown",
      "source": [
        "\n",
        "**EXERCÍCIO 2**\n",
        "\n",
        "Crie um algoritmo que calcule a hipotenusa de um triângulo retângulo segundo o Teorema de Pitágoras.\n",
        "\n",
        "- hipotenusa² = cateto_oposto² + cateto_adjacente²"
      ],
      "metadata": {
        "id": "-7arniUY76xK"
      }
    },
    {
      "cell_type": "markdown",
      "source": [
        "**EXERCÍCIO 3**\n",
        "\n",
        "Calcule as relações trigonométricas de um triângulo retângulo a partir dos valores da hipotenusa e dos catetos.\n",
        "\n",
        "- seno: cateto_oposto / hipotenusa\n",
        "- cosseno: cateto_adjacente / hipotenusa\n",
        "- tangente: cateto_oposto / cateto_adjacente"
      ],
      "metadata": {
        "id": "88aZaJyfAods"
      }
    },
    {
      "cell_type": "markdown",
      "source": [
        "**EXERCÍCIO 4**\n",
        "\n",
        "Crie um algoritmo que calcule as raízes de uma equação do segundo grau utilizando a fórmula de Bhaskara. Identifique corretamente as variáveis de entrada e de saída.\n",
        "\n",
        "- delta = b² - 4ac\n",
        "- x1 = -b - raiz(delta) / 2a\n",
        "- x2 = -b - raiz(delta) / 2a"
      ],
      "metadata": {
        "id": "DXqH51Yw-bk6"
      }
    },
    {
      "cell_type": "code",
      "source": [],
      "metadata": {
        "id": "PY1fJFDFBBim"
      },
      "execution_count": null,
      "outputs": []
    }
  ]
}