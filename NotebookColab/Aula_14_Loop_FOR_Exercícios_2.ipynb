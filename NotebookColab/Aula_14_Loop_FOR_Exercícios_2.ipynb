{
  "cells": [
    {
      "cell_type": "markdown",
      "metadata": {
        "id": "wAzo_qvdBDuK"
      },
      "source": [
        "### Exercício 1\n",
        "\n",
        "Leia e mostre 10 nomes digitados pelo usuário."
      ]
    },
    {
      "cell_type": "code",
      "execution_count": null,
      "metadata": {
        "colab": {
          "base_uri": "https://localhost:8080/",
          "height": 365
        },
        "id": "7LhwHtByAxXY",
        "outputId": "a2c0bb1c-a3fe-45e2-f0c2-3b4cdee39e7e"
      },
      "outputs": [],
      "source": [
        "# De 0 a 9, totalizando 10 repetições\n",
        "for i in range(10):\n",
        "  nome = input(\"Informe um nome: \")\n",
        "  print(nome)"
      ]
    },
    {
      "cell_type": "markdown",
      "metadata": {
        "id": "g7APUCZaDAIo"
      },
      "source": [
        "### Exercício 2\n",
        "\n",
        "Permita que o usuário digite o valor de 10 produtos e mostre ao final a soma dos valores destes produtos."
      ]
    },
    {
      "cell_type": "code",
      "execution_count": null,
      "metadata": {
        "id": "nCzaSC2MDV7V"
      },
      "outputs": [],
      "source": [
        "soma = 0\n",
        "for i in range(10):\n",
        "  valor = float(input(\"Informe o valor do produto: \"))\n",
        "  soma = soma + valor\n",
        "print(soma)"
      ]
    },
    {
      "cell_type": "markdown",
      "metadata": {
        "id": "lfkqn8zSDbVY"
      },
      "source": [
        "### Exercício 3\n",
        "\n",
        "Receba um número inteiro qualquer digitado pelo usuário e mostre a tabuada deste número.\n",
        "\n",
        "OBS: a tabuada são os valores das multiplicações de 1 a 10 de cada número."
      ]
    },
    {
      "cell_type": "code",
      "execution_count": null,
      "metadata": {
        "id": "hzspvkaVPd_4"
      },
      "outputs": [],
      "source": [
        "num = int(input(\"Digite um número: \"))\n",
        "for i in range(0, 11):\n",
        "  print(num, \" x \", i, \" = \", num*i)"
      ]
    },
    {
      "cell_type": "markdown",
      "metadata": {
        "id": "l1DmxmJJRfhw"
      },
      "source": [
        "### Exercício 4\n",
        "\n",
        "Receba o saldo inicial da conta de um usuário. Em seguida registre 5 operações bancárias feitas nesta conta. Se a operação AUMENTAR o saldo, incremente-o com o valor transacionado. Se a operação DIMINUIR o saldo, decremente-o com o valor transacionado. Mostre o saldo final deste usuário após a realização das transações."
      ]
    },
    {
      "cell_type": "code",
      "execution_count": null,
      "metadata": {
        "id": "Q7Ve-TyjR7Np"
      },
      "outputs": [],
      "source": [
        "# Saldo inicial\n",
        "saldo = 1000\n",
        "print(\"Saldo inicial: \", saldo)\n",
        "# Cinco operações\n",
        "for i in range(5):\n",
        "  valor = float(input(\"\\n Valor da transação: \"))\n",
        "  print(\"\\n C - Crédito \\n D - Débito\")\n",
        "  tipo = input(\"\\nTipo da transação: \")\n",
        "  # Verifica tipo da transação\n",
        "  if tipo == \"C\" or tipo == \"c\":\n",
        "    saldo = saldo + valor\n",
        "  elif tipo == \"D\" or tipo == \"d\":\n",
        "    saldo = saldo - valor\n",
        "  else:\n",
        "    print(\"\\nTransação inválida\")\n",
        "  # Mostra o extrato da transação\n",
        "  print(\"Saldo: \", saldo, \" Valor: \", valor, \"Tipo: \", tipo)"
      ]
    },
    {
      "cell_type": "markdown",
      "metadata": {
        "id": "psLRwT0CX9kA"
      },
      "source": [
        "### Exercício 5\n",
        "\n",
        "Receba do professor o total de aulas de uma disciplina. Em seguida receba do professor, para cada dia de aula, o valor 1 indicando que o aluno esteve presente ou o valor 0 indicando que o aluno esteve ausente. Some todas as presenças do aluno, em seguida divida a soma pelo total de aulas para obter o percentual de frequência. Se o percentual obtido for igual ou superior a 75%, o aluno estará aprovado. Senão, o aluno estará reprovado.\n"
      ]
    },
    {
      "cell_type": "code",
      "execution_count": null,
      "metadata": {
        "colab": {
          "base_uri": "https://localhost:8080/"
        },
        "id": "uYSlSnpEX85Z",
        "outputId": "0c62218c-3c9c-47ab-efad-7eca6c847f1d"
      },
      "outputs": [],
      "source": [
        "soma_presencas = 0\n",
        "total_aulas = int(input(\"Informe o total de aulas da disciplina: \"))\n",
        "for i in range(total_aulas):\n",
        "  presenca = int(input(\"Digite '1' para PRESENTE ou '0' para AUSENTE: \"))\n",
        "  soma_presencas = soma_presencas + presenca\n",
        "frequencia = soma_presencas / total_aulas\n",
        "print(\"Frequência: \", frequencia*100)\n",
        "if frequencia >= 0.75:\n",
        "  print(\"Aprovado\")\n",
        "else:\n",
        "  print(\"Reprovado\")"
      ]
    }
  ],
  "metadata": {
    "colab": {
      "provenance": []
    },
    "kernelspec": {
      "display_name": "Python 3",
      "name": "python3"
    },
    "language_info": {
      "name": "python"
    }
  },
  "nbformat": 4,
  "nbformat_minor": 0
}
