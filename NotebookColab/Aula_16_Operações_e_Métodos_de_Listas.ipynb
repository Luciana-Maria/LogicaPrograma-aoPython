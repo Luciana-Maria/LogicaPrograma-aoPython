{
  "nbformat": 4,
  "nbformat_minor": 0,
  "metadata": {
    "colab": {
      "provenance": []
    },
    "kernelspec": {
      "name": "python3",
      "display_name": "Python 3"
    },
    "language_info": {
      "name": "python"
    }
  },
  "cells": [
    {
      "cell_type": "markdown",
      "source": [
        "### Operações com listas"
      ],
      "metadata": {
        "id": "HziUlbq1tQkI"
      }
    },
    {
      "cell_type": "code",
      "execution_count": null,
      "metadata": {
        "id": "vnOeb1-_iHNs"
      },
      "outputs": [],
      "source": [
        "nomes_femininos = ['Ana', 'Bianca', 'Cássia', 'Daiane', 'Elen', 'Fernanda']\n",
        "nomes_masculinos = ['André', 'Bruno', 'Carlos', 'Diogo', 'Eduardo', 'Fábio']\n",
        "# salarios = [5000, 8000, 3000, 2000, 9500, 4500]"
      ]
    },
    {
      "cell_type": "markdown",
      "source": [
        "Concatenação (concat): unir duas listas em uma"
      ],
      "metadata": {
        "id": "Kf38VACki2iO"
      }
    },
    {
      "cell_type": "code",
      "source": [
        "nomes = nomes_femininos + nomes_masculinos\n",
        "print(nomes)"
      ],
      "metadata": {
        "colab": {
          "base_uri": "https://localhost:8080/"
        },
        "id": "toPmztnZi51O",
        "outputId": "320936ad-e80b-4faa-89f5-97c00a7d187b"
      },
      "execution_count": null,
      "outputs": [
        {
          "output_type": "stream",
          "name": "stdout",
          "text": [
            "['Ana', 'Bianca', 'Cássia', 'Daiane', 'Elen', 'Fernanda', 'André', 'Bruno', 'Carlos', 'Diogo', 'Eduardo', 'Fábio']\n"
          ]
        }
      ]
    },
    {
      "cell_type": "markdown",
      "source": [
        "Fatiamento (slice/slicing): \"cortar\" a lista em \"pedaços\" menores"
      ],
      "metadata": {
        "id": "H4TPU9zZjwXX"
      }
    },
    {
      "cell_type": "code",
      "source": [
        "grupo_1 = nomes[:3]\n",
        "grupo_2 = nomes[3:6]\n",
        "grupo_3 = nomes[6:9]\n",
        "grupo_4 = nomes[9:]"
      ],
      "metadata": {
        "id": "mViilEbOjNTR"
      },
      "execution_count": null,
      "outputs": []
    },
    {
      "cell_type": "code",
      "source": [
        "grupo_1"
      ],
      "metadata": {
        "colab": {
          "base_uri": "https://localhost:8080/"
        },
        "id": "Dxk2bSlvj8GY",
        "outputId": "01d1da6c-6907-41f2-accd-b8e1ef02c218"
      },
      "execution_count": null,
      "outputs": [
        {
          "output_type": "execute_result",
          "data": {
            "text/plain": [
              "['Ana', 'Bianca', 'Cássia']"
            ]
          },
          "metadata": {},
          "execution_count": 10
        }
      ]
    },
    {
      "cell_type": "code",
      "source": [
        "grupo_2"
      ],
      "metadata": {
        "colab": {
          "base_uri": "https://localhost:8080/"
        },
        "id": "5LcTHQa3j9NN",
        "outputId": "d54ce475-9ce6-4a50-bf80-301415e11d2a"
      },
      "execution_count": null,
      "outputs": [
        {
          "output_type": "execute_result",
          "data": {
            "text/plain": [
              "['Daiane', 'Elen', 'Fernanda']"
            ]
          },
          "metadata": {},
          "execution_count": 11
        }
      ]
    },
    {
      "cell_type": "code",
      "source": [
        "grupo_3"
      ],
      "metadata": {
        "colab": {
          "base_uri": "https://localhost:8080/"
        },
        "id": "JXjLwmexkKlK",
        "outputId": "ad16c6c2-d441-4823-e4ec-81ffb117b12f"
      },
      "execution_count": null,
      "outputs": [
        {
          "output_type": "execute_result",
          "data": {
            "text/plain": [
              "['André', 'Bruno', 'Carlos']"
            ]
          },
          "metadata": {},
          "execution_count": 12
        }
      ]
    },
    {
      "cell_type": "code",
      "source": [
        "grupo_4"
      ],
      "metadata": {
        "colab": {
          "base_uri": "https://localhost:8080/"
        },
        "id": "5Ua-FIRokNRu",
        "outputId": "120ac921-f746-411c-8715-8e5d1f2127d2"
      },
      "execution_count": null,
      "outputs": [
        {
          "output_type": "execute_result",
          "data": {
            "text/plain": [
              "['Diogo', 'Eduardo', 'Fábio']"
            ]
          },
          "metadata": {},
          "execution_count": 13
        }
      ]
    },
    {
      "cell_type": "markdown",
      "source": [
        "### Métodos para manipulação de listas"
      ],
      "metadata": {
        "id": "eWY2knlJtK9H"
      }
    },
    {
      "cell_type": "markdown",
      "source": [
        "Append: acrescentar ao final da lista"
      ],
      "metadata": {
        "id": "0IqCiUpXtpGR"
      }
    },
    {
      "cell_type": "code",
      "source": [
        "nomes"
      ],
      "metadata": {
        "colab": {
          "base_uri": "https://localhost:8080/"
        },
        "id": "bONkJsrZtO9G",
        "outputId": "350f36d4-705d-4b0b-948c-440fafecc60f"
      },
      "execution_count": null,
      "outputs": [
        {
          "output_type": "execute_result",
          "data": {
            "text/plain": [
              "['Ana',\n",
              " 'Bianca',\n",
              " 'Cássia',\n",
              " 'Daiane',\n",
              " 'Elen',\n",
              " 'Fernanda',\n",
              " 'André',\n",
              " 'Bruno',\n",
              " 'Carlos',\n",
              " 'Diogo',\n",
              " 'Eduardo',\n",
              " 'Fábio']"
            ]
          },
          "metadata": {},
          "execution_count": 18
        }
      ]
    },
    {
      "cell_type": "code",
      "source": [
        "nomes.append('Gregório')\n",
        "nomes"
      ],
      "metadata": {
        "colab": {
          "base_uri": "https://localhost:8080/"
        },
        "id": "4acozpPVtcTs",
        "outputId": "e02eb943-fc16-49a7-b862-b8b8138bdf3a"
      },
      "execution_count": null,
      "outputs": [
        {
          "output_type": "execute_result",
          "data": {
            "text/plain": [
              "['Ana',\n",
              " 'Bianca',\n",
              " 'Cássia',\n",
              " 'Daiane',\n",
              " 'Elen',\n",
              " 'Fernanda',\n",
              " 'André',\n",
              " 'Bruno',\n",
              " 'Carlos',\n",
              " 'Diogo',\n",
              " 'Eduardo',\n",
              " 'Fábio',\n",
              " 'Gregório']"
            ]
          },
          "metadata": {},
          "execution_count": 19
        }
      ]
    },
    {
      "cell_type": "markdown",
      "source": [
        "Modificar o valor de um elemento"
      ],
      "metadata": {
        "id": "43ngn01U1Vk_"
      }
    },
    {
      "cell_type": "code",
      "source": [
        "nomes[12] = 'Geraldo'\n",
        "nomes"
      ],
      "metadata": {
        "colab": {
          "base_uri": "https://localhost:8080/"
        },
        "id": "GlyXvMMNtlQr",
        "outputId": "485f4923-e3c5-46d0-fadf-7767eac5c5e1"
      },
      "execution_count": null,
      "outputs": [
        {
          "output_type": "execute_result",
          "data": {
            "text/plain": [
              "['Ana',\n",
              " 'Bianca',\n",
              " 'Cássia',\n",
              " 'Daiane',\n",
              " 'Elen',\n",
              " 'Fernanda',\n",
              " 'André',\n",
              " 'Bruno',\n",
              " 'Carlos',\n",
              " 'Diogo',\n",
              " 'Eduardo',\n",
              " 'Fábio',\n",
              " 'Geraldo']"
            ]
          },
          "metadata": {},
          "execution_count": 20
        }
      ]
    },
    {
      "cell_type": "markdown",
      "source": [
        "## Tupla\n",
        "\n",
        "É a mesma coisa que a lista. A diferença é que os elementos de uma tupla não podem ser modificados."
      ],
      "metadata": {
        "id": "rbw1Ervw2K3A"
      }
    },
    {
      "cell_type": "code",
      "source": [
        "lista = [\"cachorro\", \"gato\", \"papagaio\"]\n",
        "tupla = (\"cachorro\", \"gato\", \"papagaio\")"
      ],
      "metadata": {
        "id": "zJeHieRJ2IIS"
      },
      "execution_count": null,
      "outputs": []
    },
    {
      "cell_type": "code",
      "source": [
        "print(lista)\n",
        "print(tupla)"
      ],
      "metadata": {
        "colab": {
          "base_uri": "https://localhost:8080/"
        },
        "id": "FeaVoA4q3WUY",
        "outputId": "1748b8a0-f95a-4d80-f72b-d43ce7121e3d"
      },
      "execution_count": null,
      "outputs": [
        {
          "output_type": "stream",
          "name": "stdout",
          "text": [
            "['cachorro', 'gato', 'papagaio']\n",
            "('cachorro', 'gato', 'papagaio')\n"
          ]
        }
      ]
    },
    {
      "cell_type": "code",
      "source": [
        "# Troca 'papagaio' por 'jabuti' na lista\n",
        "lista[2] = \"jabuti\"\n",
        "lista"
      ],
      "metadata": {
        "colab": {
          "base_uri": "https://localhost:8080/"
        },
        "id": "Wy6w72OQ2J52",
        "outputId": "9488c007-dc60-42cc-a1f1-27afc519813e"
      },
      "execution_count": null,
      "outputs": [
        {
          "output_type": "execute_result",
          "data": {
            "text/plain": [
              "['cachorro', 'gato', 'jabuti']"
            ]
          },
          "metadata": {},
          "execution_count": 28
        }
      ]
    },
    {
      "cell_type": "code",
      "source": [
        "# Verifica quem está na posição 2 da tupla\n",
        "tupla[2]"
      ],
      "metadata": {
        "colab": {
          "base_uri": "https://localhost:8080/",
          "height": 36
        },
        "id": "BsZzVqVo37fz",
        "outputId": "2f587220-07b4-41cb-ed9c-8955a8920162"
      },
      "execution_count": null,
      "outputs": [
        {
          "output_type": "execute_result",
          "data": {
            "text/plain": [
              "'papagaio'"
            ],
            "application/vnd.google.colaboratory.intrinsic+json": {
              "type": "string"
            }
          },
          "metadata": {},
          "execution_count": 29
        }
      ]
    },
    {
      "cell_type": "code",
      "source": [
        "# Tente trocar 'papagaio' por 'jabuti' na tupla e você obterá um erro\n",
        "tupla[2] = \"jabuti\"\n",
        "tupla"
      ],
      "metadata": {
        "colab": {
          "base_uri": "https://localhost:8080/",
          "height": 180
        },
        "id": "xSb-fvJF2sA8",
        "outputId": "2ad57760-0d6c-4b68-8e13-dea8e4c57492"
      },
      "execution_count": null,
      "outputs": [
        {
          "output_type": "error",
          "ename": "TypeError",
          "evalue": "'tuple' object does not support item assignment",
          "traceback": [
            "\u001b[0;31m---------------------------------------------------------------------------\u001b[0m",
            "\u001b[0;31mTypeError\u001b[0m                                 Traceback (most recent call last)",
            "\u001b[0;32m<ipython-input-30-998c8024af5a>\u001b[0m in \u001b[0;36m<cell line: 2>\u001b[0;34m()\u001b[0m\n\u001b[1;32m      1\u001b[0m \u001b[0;31m# Tente trocar 'papagaio' por 'jabuti' na tupla e você obterá um erro\u001b[0m\u001b[0;34m\u001b[0m\u001b[0;34m\u001b[0m\u001b[0m\n\u001b[0;32m----> 2\u001b[0;31m \u001b[0mtupla\u001b[0m\u001b[0;34m[\u001b[0m\u001b[0;36m2\u001b[0m\u001b[0;34m]\u001b[0m \u001b[0;34m=\u001b[0m \u001b[0;34m\"jabuti\"\u001b[0m\u001b[0;34m\u001b[0m\u001b[0;34m\u001b[0m\u001b[0m\n\u001b[0m\u001b[1;32m      3\u001b[0m \u001b[0mtupla\u001b[0m\u001b[0;34m\u001b[0m\u001b[0;34m\u001b[0m\u001b[0m\n",
            "\u001b[0;31mTypeError\u001b[0m: 'tuple' object does not support item assignment"
          ]
        }
      ]
    },
    {
      "cell_type": "code",
      "source": [],
      "metadata": {
        "id": "uN74CjZp4Y0Q"
      },
      "execution_count": null,
      "outputs": []
    }
  ]
}